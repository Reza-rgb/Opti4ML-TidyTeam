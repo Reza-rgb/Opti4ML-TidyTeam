{
 "cells": [
  {
   "cell_type": "code",
   "execution_count": 2,
   "metadata": {},
   "outputs": [],
   "source": [
    "# Standard scientific Python imports\n",
    "import matplotlib.pyplot as plt\n",
    "\n",
    "# Import datasets, classifiers and performance metrics\n",
    "from sklearn import metrics, svm\n",
    "from sklearn.model_selection import train_test_split\n",
    "from sklearn.datasets import make_classification\n",
    "from sklearn.linear_model import Perceptron, SGDClassifier\n",
    "from sklearn.utils import shuffle\n",
    "from sklearn.preprocessing import StandardScaler\n",
    "from sklearn.linear_model import LinearRegression, LogisticRegression\n",
    "from sklearn.metrics import accuracy_score, log_loss\n",
    "from itertools import product\n",
    "import numpy as np\n",
    "\n",
    "from tqdm import tqdm\n",
    "from sklearn.svm import SVC"
   ]
  },
  {
   "cell_type": "code",
   "execution_count": 3,
   "metadata": {},
   "outputs": [],
   "source": [
    "import torch\n",
    "import torch.nn as nn\n",
    "import torch.nn.functional as F\n",
    "from torch.utils.data import Dataset, DataLoader, Subset, TensorDataset\n",
    "from torchvision import datasets, transforms"
   ]
  },
  {
   "cell_type": "code",
   "execution_count": 4,
   "metadata": {},
   "outputs": [],
   "source": [
    "import sys\n",
    "import os\n",
    "\n",
    "parent_dir = os.path.abspath(os.path.join(os.getcwd(), '..'))\n",
    "\n",
    "sys.path.append(parent_dir)\n",
    "\n",
    "from utils import AddGaussianNoise, AddImpulseNoise"
   ]
  },
  {
   "cell_type": "markdown",
   "metadata": {},
   "source": [
    "# Model Defintion: SmallCNN"
   ]
  },
  {
   "cell_type": "markdown",
   "metadata": {},
   "source": [
    "A SGD classifer is not enough to get reliable insights on CIFAR-10 dataset so we will use a lightweight CNN. This will allow us to accurately estimate the influence of training order"
   ]
  },
  {
   "cell_type": "code",
   "execution_count": 5,
   "metadata": {},
   "outputs": [],
   "source": [
    "class SmallCNN(nn.Module):\n",
    "    def __init__(self):\n",
    "        super().__init__()\n",
    "        self.features = nn.Sequential(\n",
    "            nn.Conv2d(1, 32, kernel_size=3, padding=1), nn.ReLU(),\n",
    "            nn.MaxPool2d(2),\n",
    "            nn.Conv2d(32, 64, kernel_size=3, padding=1), nn.ReLU(),\n",
    "            nn.MaxPool2d(2)\n",
    "        )\n",
    "        self.classifier = nn.Sequential(\n",
    "            nn.Flatten(),\n",
    "            nn.Linear(64 * 7 * 7, 128), nn.ReLU(),\n",
    "            nn.Linear(128, 10)\n",
    "        )\n",
    "        \n",
    "    def forward(self, x):\n",
    "        x = self.features(x)\n",
    "        x = self.classifier(x)\n",
    "        return x"
   ]
  },
  {
   "cell_type": "markdown",
   "metadata": {},
   "source": [
    "# MNIST Dataset (Vanilla Case)"
   ]
  },
  {
   "cell_type": "markdown",
   "metadata": {},
   "source": [
    "## Data Loading"
   ]
  },
  {
   "cell_type": "markdown",
   "metadata": {},
   "source": [
    "As MNIST consist of grayscale images, we can define 1 channel of size 28x28."
   ]
  },
  {
   "cell_type": "code",
   "execution_count": 6,
   "metadata": {},
   "outputs": [
    {
     "name": "stdout",
     "output_type": "stream",
     "text": [
      "X_train: torch.Size([60000, 1, 28, 28]), y_train: torch.Size([60000])\n",
      "X_test: torch.Size([10000, 1, 28, 28]), y_test: torch.Size([10000])\n"
     ]
    }
   ],
   "source": [
    "transform = transforms.Compose([\n",
    "    transforms.ToTensor(),\n",
    "    transforms.Normalize((0.1307,), (0.3081,))  # MNIST mean & std\n",
    "])\n",
    "\n",
    "base_train = datasets.MNIST(root='./data', train=True, download=True, transform=transform)\n",
    "base_test = datasets.MNIST(root='./data', train=False, download=True, transform=transform)\n",
    "\n",
    "X_train = torch.stack([base_train[i][0] for i in range(len(base_train))])\n",
    "y_train = torch.tensor([base_train[i][1] for i in range(len(base_train))])\n",
    "\n",
    "X_test = torch.stack([base_test[i][0] for i in range(len(base_test))])\n",
    "y_test = torch.tensor([base_test[i][1] for i in range(len(base_test))])\n",
    "\n",
    "print(f\"X_train: {X_train.shape}, y_train: {y_train.shape}\")\n",
    "print(f\"X_test: {X_test.shape}, y_test: {y_test.shape}\")\n",
    "\n",
    "train_dataset = TensorDataset(X_train, y_train)\n",
    "test_dataset = TensorDataset(X_test, y_test)\n",
    "\n",
    "train_loader = DataLoader(train_dataset, batch_size=64, shuffle=True)\n",
    "test_loader  = DataLoader(test_dataset, batch_size=1000, shuffle=False)"
   ]
  },
  {
   "cell_type": "markdown",
   "metadata": {},
   "source": [
    "## Analysis"
   ]
  },
  {
   "cell_type": "markdown",
   "metadata": {},
   "source": [
    "### (0) Base Case"
   ]
  },
  {
   "cell_type": "markdown",
   "metadata": {},
   "source": [
    "Let's try as the Vanilla Base Case: Train on the entire dataset using uniform random shuffling for each epoch."
   ]
  },
  {
   "cell_type": "code",
   "execution_count": 7,
   "metadata": {},
   "outputs": [
    {
     "name": "stdout",
     "output_type": "stream",
     "text": [
      "Using device: cpu\n",
      "Epoch 1/1 - Train Loss: 0.1304\n",
      "Test Accuracy: 0.9865\n"
     ]
    }
   ],
   "source": [
    "device = torch.device(\"mps\" if torch.backends.mps.is_available() else \"cpu\")\n",
    "print(f\"Using device: {device}\")\n",
    "model = SmallCNN().to(device)\n",
    "criterion = nn.CrossEntropyLoss()\n",
    "optimizer = torch.optim.Adam(model.parameters(), lr=0.001)\n",
    "n_epochs = 1\n",
    "\n",
    "for epoch in range(n_epochs):\n",
    "    model.train()\n",
    "    total_loss = 0\n",
    "    for images, labels in train_loader:\n",
    "        images, labels = images.to(device), labels.to(device)\n",
    "        \n",
    "        optimizer.zero_grad()\n",
    "        outputs = model(images)\n",
    "        loss = criterion(outputs, labels)\n",
    "        loss.backward()\n",
    "        optimizer.step()\n",
    "        total_loss += loss.item() * images.size(0)\n",
    "\n",
    "    avg_loss = total_loss / len(train_loader.dataset)\n",
    "    print(f\"Epoch {epoch+1}/{n_epochs} - Train Loss: {avg_loss:.4f}\")\n",
    "\n",
    "model.eval()\n",
    "correct = 0\n",
    "total = 0\n",
    "with torch.no_grad():\n",
    "    for images, labels in test_loader:\n",
    "        images, labels = images.to(device), labels.to(device)\n",
    "        outputs = model(images)\n",
    "        predicted = outputs.argmax(dim=1)\n",
    "        correct += (predicted == labels).sum().item()\n",
    "        total += labels.size(0)\n",
    "\n",
    "print(f\"Test Accuracy: {correct / total:.4f}\")"
   ]
  },
  {
   "cell_type": "markdown",
   "metadata": {},
   "source": [
    "### (1) Curriculum Learning"
   ]
  },
  {
   "cell_type": "markdown",
   "metadata": {},
   "source": [
    "#### Pre-analysis"
   ]
  },
  {
   "cell_type": "markdown",
   "metadata": {},
   "source": [
    "As curriculum learning is based on giving samples in increasing difficulty level to the model, we first need to define a difficulty function. We will base ours on difference between the distance of each point to the centroid of each class."
   ]
  },
  {
   "cell_type": "code",
   "execution_count": 8,
   "metadata": {},
   "outputs": [],
   "source": [
    "def compute_MNIST_difficulty(X, y, centroids):\n",
    "    dist = np.linalg.norm(X - centroids[y], axis=1)\n",
    "    return dist"
   ]
  },
  {
   "cell_type": "markdown",
   "metadata": {},
   "source": [
    "#### Analysis"
   ]
  },
  {
   "cell_type": "code",
   "execution_count": 9,
   "metadata": {},
   "outputs": [],
   "source": [
    "X_train_flat = X_train.view(len(X_train), -1).numpy()\n",
    "\n",
    "centroids = np.zeros((10, X_train_flat.shape[1]))\n",
    "for i in range(10):\n",
    "    centroids[i] = X_train_flat[y_train == i].mean(axis=0)"
   ]
  },
  {
   "cell_type": "code",
   "execution_count": 10,
   "metadata": {},
   "outputs": [
    {
     "name": "stdout",
     "output_type": "stream",
     "text": [
      "\n",
      "Stage 1/5: Using 6000 new examples\n",
      "  Epoch 1/1 - Loss: 0.1940, Acc: 0.9553\n",
      "\n",
      "Stage 2/5: Using 13500 new examples\n",
      "  Epoch 1/1 - Loss: 0.1043, Acc: 0.9741\n",
      "\n",
      "Stage 3/5: Using 13500 new examples\n",
      "  Epoch 1/1 - Loss: 0.0784, Acc: 0.9741\n",
      "\n",
      "Stage 4/5: Using 13500 new examples\n",
      "  Epoch 1/1 - Loss: 0.0968, Acc: 0.9690\n",
      "\n",
      "Stage 5/5: Using 13500 new examples\n",
      "  Epoch 1/1 - Loss: 0.1511, Acc: 0.9525\n",
      "\n",
      "Final Test Accuracy: 0.9582\n"
     ]
    }
   ],
   "source": [
    "stage_accs = []\n",
    "num_examples = []\n",
    "\n",
    "# Compute difficulty score\n",
    "difficulties = compute_MNIST_difficulty(X_train_flat, y_train, centroids)\n",
    "\n",
    "# Normalize difficulties to [0, 1]\n",
    "difficulties = (difficulties - difficulties.min()) / (difficulties.max() - difficulties.min())\n",
    "\n",
    "# Sort indices by difficulty\n",
    "sorted_indices = np.argsort(difficulties)\n",
    "\n",
    "device = torch.device(\"mps\" if torch.backends.mps.is_available() else \"cpu\")\n",
    "model = SmallCNN().to(device)\n",
    "criterion = torch.nn.CrossEntropyLoss()\n",
    "optimizer = torch.optim.Adam(model.parameters(), lr=0.001)\n",
    "\n",
    "# Hyperparameters\n",
    "batch_size = 64\n",
    "epochs_per_stage = 1  # can increase to 2–3 if needed\n",
    "num_stages = 5\n",
    "\n",
    "# Define curriculum stages as % of dataset (in increasing difficulty)\n",
    "phases = np.linspace(0.1, 1.0, num_stages)\n",
    "\n",
    "previous_n = 0  # Start index for slicing\n",
    "\n",
    "for stage, phase in enumerate(phases):\n",
    "    current_n = int(phase * len(sorted_indices))\n",
    "    selected_idx = sorted_indices[previous_n:current_n]\n",
    "    previous_n = current_n  # Update for next stage\n",
    "    \n",
    "    print(f\"\\nStage {stage+1}/{num_stages}: Using {len(selected_idx)} new examples\")\n",
    "\n",
    "    # Prepare current stage dataset\n",
    "    X_stage = X_train[selected_idx]\n",
    "    y_stage = y_train[selected_idx]\n",
    "\n",
    "    train_dataset = TensorDataset(X_stage, y_stage)\n",
    "    train_loader = DataLoader(train_dataset, batch_size=batch_size, shuffle=True)\n",
    "\n",
    "    # Training loop for this stage\n",
    "    for epoch in range(epochs_per_stage):\n",
    "        model.train()\n",
    "        total_loss, total_correct = 0, 0\n",
    "\n",
    "        for images, labels in train_loader:\n",
    "            images, labels = images.to(device), labels.to(device)\n",
    "            optimizer.zero_grad()\n",
    "            outputs = model(images)\n",
    "            loss = criterion(outputs, labels)\n",
    "            loss.backward()\n",
    "            optimizer.step()\n",
    "\n",
    "            total_loss += loss.item() * labels.size(0)\n",
    "            total_correct += (outputs.argmax(1) == labels).sum().item()\n",
    "\n",
    "        acc = total_correct / len(train_dataset)\n",
    "        print(f\"  Epoch {epoch+1}/{epochs_per_stage} - Loss: {total_loss/len(train_dataset):.4f}, Acc: {acc:.4f}\")\n",
    "        \n",
    "        stage_accs.append(acc)\n",
    "        num_examples.append(current_n)\n",
    "\n",
    "# Final test accuracy\n",
    "\n",
    "model.eval()\n",
    "total_correct = 0\n",
    "with torch.no_grad():\n",
    "    for images, labels in test_loader:\n",
    "        images, labels = images.to(device), labels.to(device)\n",
    "        outputs = model(images)\n",
    "        total_correct += (outputs.argmax(1) == labels).sum().item()\n",
    "\n",
    "test_acc = total_correct / len(test_dataset)\n",
    "print(f\"\\nFinal Test Accuracy: {test_acc:.4f}\")"
   ]
  },
  {
   "cell_type": "code",
   "execution_count": null,
   "metadata": {},
   "outputs": [
    {
     "data": {
      "image/png": "[encoded data removed]",
      "text/plain": [
       "<Figure size 800x500 with 1 Axes>"
      ]
     },
     "metadata": {},
     "output_type": "display_data"
    }
   ],
   "source": [
    "plt.figure(figsize=(8, 5))\n",
    "plt.plot(num_examples, stage_accs, marker='o')\n",
    "plt.title(\"MNIST - Curriculum learning : Accuracy vs number of Training Data\")\n",
    "plt.xlabel(\"Number of training data used\")\n",
    "plt.ylabel(\"Train accuracy\")\n",
    "plt.grid(True)\n",
    "plt.show()"
   ]
  },
  {
   "cell_type": "markdown",
   "metadata": {},
   "source": [
    "### (2) Self-Paced Learning"
   ]
  },
  {
   "cell_type": "markdown",
   "metadata": {},
   "source": [
    "In Self-Paced Learning, the model is supposed to:\n",
    "\n",
    "• learn from easier samples first (based on current loss)\n",
    "\n",
    "• adaptively expand its training set to include harder samples as it becomes more confident"
   ]
  },
  {
   "cell_type": "markdown",
   "metadata": {},
   "source": [
    "We will use the same X_train, X_test, y_train and y_test computed in the curriculum learning phase.\n",
    "To implement the SPL we will introduce a difficulty threshold to let the model choose how many samples of this difficulty it is ready to handle."
   ]
  },
  {
   "cell_type": "code",
   "execution_count": null,
   "metadata": {},
   "outputs": [
    {
     "name": "stdout",
     "output_type": "stream",
     "text": [
      "Epoch 1: selected 60000 new samples (total seen: 60000/60000)\n",
      "  Train Loss: 0.1339, Acc: 0.9590\n"
     ]
    },
    {
     "ename": "RuntimeError",
     "evalue": "torch.cat(): expected a non-empty list of Tensors",
     "output_type": "error",
     "traceback": [
      "\u001b[0;31m---------------------------------------------------------------------------\u001b[0m",
      "\u001b[0;31mRuntimeError\u001b[0m                              Traceback (most recent call last)",
      "Input \u001b[0;32mIn [12]\u001b[0m, in \u001b[0;36m<cell line: 14>\u001b[0;34m()\u001b[0m\n\u001b[1;32m     25\u001b[0m     losses \u001b[38;5;241m=\u001b[39m criterion(outputs, labels)\n\u001b[1;32m     26\u001b[0m     all_losses\u001b[38;5;241m.\u001b[39mappend(losses\u001b[38;5;241m.\u001b[39mcpu())\n\u001b[0;32m---> 28\u001b[0m all_losses \u001b[38;5;241m=\u001b[39m \u001b[43mtorch\u001b[49m\u001b[38;5;241;43m.\u001b[39;49m\u001b[43mcat\u001b[49m\u001b[43m(\u001b[49m\u001b[43mall_losses\u001b[49m\u001b[43m)\u001b[49m\n\u001b[1;32m     30\u001b[0m stage_accs\u001b[38;5;241m.\u001b[39mappend(acc)\n\u001b[1;32m     31\u001b[0m num_examples\u001b[38;5;241m.\u001b[39mappend(current_n)\n",
      "\u001b[0;31mRuntimeError\u001b[0m: torch.cat(): expected a non-empty list of Tensors"
     ]
    }
   ],
   "source": [
    "device = torch.device(\"mps\" if torch.backends.mps.is_available() else \"cpu\")\n",
    "model = SmallCNN().to(device)\n",
    "criterion = torch.nn.CrossEntropyLoss(reduction='none')\n",
    "optimizer = torch.optim.Adam(model.parameters(), lr=0.001)\n",
    "\n",
    "num_epochs = 3\n",
    "samples_per_epoch = len(X_train)\n",
    "\n",
    "seen_mask = torch.zeros(len(X_train), dtype=torch.bool)\n",
    "\n",
    "for epoch in range(num_epochs):\n",
    "    model.eval()\n",
    "    with torch.no_grad():\n",
    "        unseen_indices = (~seen_mask).nonzero(as_tuple=True)[0]\n",
    "        unseen_loader = DataLoader(TensorDataset(X_train[unseen_indices], y_train[unseen_indices]),\n",
    "                                   batch_size=batch_size, shuffle=False)\n",
    "\n",
    "        all_losses = []\n",
    "        for images, labels in unseen_loader:\n",
    "            images, labels = images.to(device), labels.to(device)\n",
    "            outputs = model(images)\n",
    "            losses = criterion(outputs, labels)\n",
    "            all_losses.append(losses.cpu())\n",
    "\n",
    "        all_losses = torch.cat(all_losses)\n",
    "\n",
    "    \n",
    "    k = min(samples_per_epoch, len(unseen_indices))\n",
    "    selected_in_unseen = torch.topk(-all_losses, k).indices\n",
    "    selected_indices = unseen_indices[selected_in_unseen]\n",
    "\n",
    "    seen_mask[selected_indices] = True\n",
    "\n",
    "    print(f\"Epoch {epoch+1}: selected {len(selected_indices)} new samples (total seen: {seen_mask.sum().item()}/{len(X_train)})\")\n",
    "\n",
    "    train_loader = DataLoader(TensorDataset(X_train[selected_indices], y_train[selected_indices]),\n",
    "                              batch_size=batch_size, shuffle=True)\n",
    "\n",
    "    model.train()\n",
    "    total_loss, total_correct = 0, 0\n",
    "    for images, labels in train_loader:\n",
    "        images, labels = images.to(device), labels.to(device)\n",
    "        optimizer.zero_grad()\n",
    "        outputs = model(images)\n",
    "        loss = criterion(outputs, labels).mean()\n",
    "        loss.backward()\n",
    "        optimizer.step()\n",
    "        total_loss += loss.item() * len(labels)\n",
    "        total_correct += (outputs.argmax(1) == labels).sum().item()\n",
    "\n",
    "    acc = total_correct / len(train_loader.dataset)\n",
    "    print(f\"  Train Loss: {total_loss / len(train_loader.dataset):.4f}, Acc: {acc:.4f}\")\n",
    "    \n",
    "print(\"Training complete.\")\n",
    "\n",
    "test_dataset = TensorDataset(X_test, y_test)\n",
    "test_loader = DataLoader(test_dataset, batch_size=batch_size)\n",
    "\n",
    "model.eval()\n",
    "total_correct = 0\n",
    "with torch.no_grad():\n",
    "    for images, labels in test_loader:\n",
    "        images, labels = images.to(device), labels.to(device)\n",
    "        outputs = model(images)\n",
    "        total_correct += (outputs.argmax(1) == labels).sum().item()\n",
    "\n",
    "test_acc = total_correct / len(test_dataset)\n",
    "print(f\"\\nFinal Test Accuracy: {test_acc:.4f}\")"
   ]
  },
  {
   "cell_type": "markdown",
   "metadata": {},
   "source": [
    "This poor accuracy can be explained because of the cumulative nature of SPL"
   ]
  },
  {
   "cell_type": "markdown",
   "metadata": {},
   "source": [
    "### (3) Hard-Example Mining"
   ]
  },
  {
   "cell_type": "markdown",
   "metadata": {},
   "source": [
    "Hard-Example Mining consists in feeding the model only hard examples. In our case, we will consider that a sample is difficult if its normalized difficulty is greater or equal than 0,75 (in other words the top 25%)."
   ]
  },
  {
   "cell_type": "code",
   "execution_count": 17,
   "metadata": {},
   "outputs": [
    {
     "name": "stdout",
     "output_type": "stream",
     "text": [
      "Selected 337 hard examples out of 60000 total\n",
      "Epoch 1/10 - Loss: 2.0891, Acc: 0.2671\n",
      "Epoch 2/10 - Loss: 1.5760, Acc: 0.5104\n",
      "Epoch 3/10 - Loss: 1.0982, Acc: 0.6350\n",
      "Epoch 4/10 - Loss: 0.8624, Acc: 0.7240\n",
      "Epoch 5/10 - Loss: 0.6841, Acc: 0.7774\n",
      "Epoch 6/10 - Loss: 0.5556, Acc: 0.8309\n",
      "Epoch 7/10 - Loss: 0.4196, Acc: 0.8783\n",
      "Epoch 8/10 - Loss: 0.3484, Acc: 0.8843\n",
      "Epoch 9/10 - Loss: 0.2694, Acc: 0.9050\n",
      "Epoch 10/10 - Loss: 0.2174, Acc: 0.9466\n",
      "\n",
      "Final Test Accuracy: 0.4354\n"
     ]
    }
   ],
   "source": [
    "accs = []\n",
    "epochs_list = []\n",
    "\n",
    "difficulties = compute_MNIST_difficulty(X_train_flat, y_train, centroids)\n",
    "difficulties = (difficulties - difficulties.min()) / (difficulties.max() - difficulties.min())\n",
    "\n",
    "hard_mask = difficulties >= 0.75\n",
    "hard_indices = np.where(hard_mask)[0] # we do not shuffle the indices to train on increasingly difficult samples (adapted CL idea)\n",
    "print(f\"Selected {len(hard_indices)} hard examples out of {len(difficulties)} total\")\n",
    "\n",
    "device = torch.device(\"mps\" if torch.backends.mps.is_available() else \"cpu\")\n",
    "model = SmallCNN().to(device)\n",
    "criterion = torch.nn.CrossEntropyLoss()\n",
    "optimizer = torch.optim.Adam(model.parameters(), lr=0.001)\n",
    "\n",
    "batch_size = 64\n",
    "epochs = 10\n",
    "\n",
    "X_hard = X_train[hard_indices]\n",
    "y_hard = y_train[hard_indices]\n",
    "\n",
    "train_dataset = TensorDataset(X_hard, y_hard)\n",
    "train_loader = DataLoader(train_dataset, batch_size=batch_size, shuffle=True)\n",
    "\n",
    "for epoch in range(epochs):\n",
    "    model.train()\n",
    "    total_loss, total_correct = 0, 0\n",
    "\n",
    "    for images, labels in train_loader:\n",
    "        images, labels = images.to(device), labels.to(device)\n",
    "        optimizer.zero_grad()\n",
    "        outputs = model(images)\n",
    "        loss = criterion(outputs, labels)\n",
    "        loss.backward()\n",
    "        optimizer.step()\n",
    "\n",
    "        total_loss += loss.item() * labels.size(0)\n",
    "        total_correct += (outputs.argmax(1) == labels).sum().item()\n",
    "\n",
    "    acc = total_correct / len(train_dataset)\n",
    "    print(f\"Epoch {epoch+1}/{epochs} - Loss: {total_loss/len(train_dataset):.4f}, Acc: {acc:.4f}\")\n",
    "\n",
    "    accs.append(acc)\n",
    "    epochs_list.append(epoch + 1)\n",
    "\n",
    "model.eval()\n",
    "total_correct = 0\n",
    "with torch.no_grad():\n",
    "    for images, labels in test_loader:\n",
    "        images, labels = images.to(device), labels.to(device)\n",
    "        outputs = model(images)\n",
    "        total_correct += (outputs.argmax(1) == labels).sum().item()\n",
    "\n",
    "test_acc = total_correct / len(test_dataset)\n",
    "print(f\"\\nFinal Test Accuracy: {test_acc:.4f}\")\n"
   ]
  },
  {
   "cell_type": "code",
   "execution_count": null,
   "metadata": {},
   "outputs": [
    {
     "data": {
      "image/png": "[encoded data removed]",
      "text/plain": [
       "<Figure size 800x500 with 1 Axes>"
      ]
     },
     "metadata": {},
     "output_type": "display_data"
    }
   ],
   "source": [
    "plt.figure(figsize=(8,5))\n",
    "plt.plot(epochs_list, accs, marker='o')\n",
    "plt.title(\"MNIST - Hard Example Mining : Accuracy vs number of epoch\")\n",
    "plt.xlabel(\"Epoch\")\n",
    "plt.ylabel(\"Train accuracy\")\n",
    "plt.ylim(0, 1)\n",
    "plt.grid(True)\n",
    "plt.show()"
   ]
  },
  {
   "cell_type": "markdown",
   "metadata": {},
   "source": [
    "### (4) Reverse Curriculum Learning"
   ]
  },
  {
   "cell_type": "markdown",
   "metadata": {},
   "source": [
    "We are implementing **Reverse Curriculum Learning (RCL)** where the model starts learning from easier goals that are close to the target and gradually works backwards to more challenging starting states."
   ]
  },
  {
   "cell_type": "code",
   "execution_count": 19,
   "metadata": {},
   "outputs": [
    {
     "name": "stdout",
     "output_type": "stream",
     "text": [
      "\n",
      "Stage 1/5: Using 6000 new hard→easy examples\n",
      "  Epoch 1/1 - Loss: 0.7472, Acc: 0.7613\n",
      "\n",
      "Stage 2/5: Using 13500 new hard→easy examples\n",
      "  Epoch 1/1 - Loss: 0.1382, Acc: 0.9555\n",
      "\n",
      "Stage 3/5: Using 13500 new hard→easy examples\n",
      "  Epoch 1/1 - Loss: 0.0632, Acc: 0.9800\n",
      "\n",
      "Stage 4/5: Using 13500 new hard→easy examples\n",
      "  Epoch 1/1 - Loss: 0.0272, Acc: 0.9906\n",
      "\n",
      "Stage 5/5: Using 13500 new hard→easy examples\n",
      "  Epoch 1/1 - Loss: 0.0043, Acc: 0.9991\n",
      "\n",
      "Final Test Accuracy: 0.9483\n"
     ]
    }
   ],
   "source": [
    "stage_accs = []\n",
    "num_examples = []\n",
    "\n",
    "difficulties = compute_MNIST_difficulty(X_train_flat, y_train, centroids)\n",
    "difficulties = (difficulties - difficulties.min()) / (difficulties.max() - difficulties.min())\n",
    "\n",
    "sorted_indices = np.argsort(difficulties)[::-1].copy()  # reverse order for hardest first\n",
    "\n",
    "device = torch.device(\"mps\" if torch.backends.mps.is_available() else \"cpu\")\n",
    "model = SmallCNN().to(device)\n",
    "criterion = torch.nn.CrossEntropyLoss()\n",
    "optimizer = torch.optim.Adam(model.parameters(), lr=0.001)\n",
    "\n",
    "batch_size = 64\n",
    "epochs_per_stage = 1\n",
    "num_stages = 5\n",
    "\n",
    "phases = np.linspace(0.1, 1.0, num_stages)\n",
    "\n",
    "previous_n = 0\n",
    "\n",
    "for stage, phase in enumerate(phases):\n",
    "    current_n = int(phase * len(sorted_indices))\n",
    "    selected_idx = sorted_indices[previous_n:current_n]\n",
    "    previous_n = current_n\n",
    "    \n",
    "    print(f\"\\nStage {stage+1}/{num_stages}: Using {len(selected_idx)} new hard→easy examples\")\n",
    "\n",
    "    X_stage = X_train[selected_idx]\n",
    "    y_stage = y_train[selected_idx]\n",
    "\n",
    "    train_dataset = TensorDataset(X_stage, y_stage)\n",
    "    train_loader = DataLoader(train_dataset, batch_size=batch_size, shuffle=True)\n",
    "\n",
    "    for epoch in range(epochs_per_stage):\n",
    "        model.train()\n",
    "        total_loss, total_correct = 0, 0\n",
    "\n",
    "        for images, labels in train_loader:\n",
    "            images, labels = images.to(device), labels.to(device)\n",
    "            optimizer.zero_grad()\n",
    "            outputs = model(images)\n",
    "            loss = criterion(outputs, labels)\n",
    "            loss.backward()\n",
    "            optimizer.step()\n",
    "\n",
    "            total_loss += loss.item() * labels.size(0)\n",
    "            total_correct += (outputs.argmax(1) == labels).sum().item()\n",
    "\n",
    "        acc = total_correct / len(train_dataset)\n",
    "        print(f\"  Epoch {epoch+1}/{epochs_per_stage} - Loss: {total_loss/len(train_dataset):.4f}, Acc: {acc:.4f}\")\n",
    "\n",
    "        stage_accs.append(acc)\n",
    "        num_examples.append(current_n)\n",
    "\n",
    "\n",
    "model.eval()\n",
    "total_correct = 0\n",
    "with torch.no_grad():\n",
    "    for images, labels in test_loader:\n",
    "        images, labels = images.to(device), labels.to(device)\n",
    "        outputs = model(images)\n",
    "        total_correct += (outputs.argmax(1) == labels).sum().item()\n",
    "\n",
    "test_acc = total_correct / len(test_dataset)\n",
    "print(f\"\\nFinal Test Accuracy: {test_acc:.4f}\")\n"
   ]
  },
  {
   "cell_type": "code",
   "execution_count": null,
   "metadata": {},
   "outputs": [
    {
     "data": {
      "image/png": "[encoded data removed]",
      "text/plain": [
       "<Figure size 800x500 with 1 Axes>"
      ]
     },
     "metadata": {},
     "output_type": "display_data"
    }
   ],
   "source": [
    "plt.figure(figsize=(8,5))\n",
    "plt.plot(num_examples, stage_accs, marker='o')\n",
    "plt.title(\"MNIST - Reverse curriculum learning : Accuracy vs number of training data\")\n",
    "plt.xlabel(\"Number of training data used\")\n",
    "plt.ylabel(\"Train accuracy\")\n",
    "plt.grid(True)\n",
    "plt.show()"
   ]
  },
  {
   "cell_type": "markdown",
   "metadata": {},
   "source": [
    "### (5) Stratified Monte-Carlo Sampling"
   ]
  },
  {
   "cell_type": "markdown",
   "metadata": {},
   "source": [
    "**Stratified Monte Carlo Sampling** is a variance reduction technique where the input space is divided into distinct strata (subregions), and samples are drawn from each stratum. This ensures more uniform coverage of the space compared to standard Monte Carlo sampling, leading to more accurate and stable estimates with fewer samples."
   ]
  },
  {
   "cell_type": "code",
   "execution_count": 21,
   "metadata": {},
   "outputs": [
    {
     "name": "stdout",
     "output_type": "stream",
     "text": [
      "\n",
      "Stage 1/5: Sampling 9724 data points from all difficulty strata (9724/60000)\n",
      "  Epoch 1/1 - Loss: 0.4527, Acc: 0.8515\n",
      "\n",
      "Stage 2/5: Sampling 8194 data points from all difficulty strata (17918/60000)\n",
      "  Epoch 1/1 - Loss: 0.1134, Acc: 0.9667\n",
      "\n",
      "Stage 3/5: Sampling 4932 data points from all difficulty strata (22850/60000)\n",
      "  Epoch 1/1 - Loss: 0.0864, Acc: 0.9759\n",
      "\n",
      "Stage 4/5: Sampling 4800 data points from all difficulty strata (27650/60000)\n",
      "  Epoch 1/1 - Loss: 0.0736, Acc: 0.9767\n",
      "\n",
      "Stage 5/5: Sampling 4800 data points from all difficulty strata (32450/60000)\n",
      "  Epoch 1/1 - Loss: 0.0794, Acc: 0.9748\n",
      "\n",
      "Final Test Accuracy: 0.9731\n"
     ]
    }
   ],
   "source": [
    "stage_accs = []\n",
    "num_examples = []\n",
    "total_seen = 0\n",
    "\n",
    "difficulties = compute_MNIST_difficulty(X_train_flat, y_train, centroids)\n",
    "difficulties = (difficulties - difficulties.min()) / (difficulties.max() - difficulties.min())\n",
    "\n",
    "device = torch.device(\"mps\" if torch.backends.mps.is_available() else \"cpu\")\n",
    "model = SmallCNN().to(device)\n",
    "criterion = torch.nn.CrossEntropyLoss()\n",
    "optimizer = torch.optim.Adam(model.parameters(), lr=0.001)\n",
    "\n",
    "batch_size = 64\n",
    "epochs_per_stage = 1\n",
    "num_stages = 5\n",
    "samples_per_stage = int(len(X_train) / num_stages)\n",
    "\n",
    "num_bins = num_stages\n",
    "bin_edges = np.linspace(0, 1, num_bins + 1)\n",
    "bins = [[] for _ in range(num_bins)]\n",
    "\n",
    "for idx, score in enumerate(difficulties):\n",
    "    for b in range(num_bins):\n",
    "        if bin_edges[b] <= score < bin_edges[b + 1] or (b == num_bins - 1 and score == 1.0):\n",
    "            bins[b].append(idx)\n",
    "            break\n",
    "\n",
    "for b in bins:\n",
    "    np.random.shuffle(b)\n",
    "\n",
    "seen_indices = set()\n",
    "num_seen = 0\n",
    "\n",
    "for stage in range(num_stages):\n",
    "    \n",
    "    current_sample_size = len(selected_idx)  \n",
    "    total_seen += current_sample_size    \n",
    "\n",
    "    stage_indices = []\n",
    "\n",
    "    for b in bins:\n",
    "        take_n = min(samples_per_stage // num_bins, len(b))\n",
    "        selected = [i for i in b if i not in seen_indices][:take_n]\n",
    "        seen_indices.update(selected)\n",
    "        stage_indices.extend(selected)\n",
    "\n",
    "    np.random.shuffle(stage_indices)\n",
    "\n",
    "    X_stage = X_train[stage_indices]\n",
    "    y_stage = y_train[stage_indices]\n",
    "    num_seen += len(X_stage)\n",
    "\n",
    "    print(f\"\\nStage {stage+1}/{num_stages}: Sampling {len(X_stage)} data points from all difficulty strata ({num_seen}/{len(X_train)})\")\n",
    "\n",
    "    train_dataset = TensorDataset(X_stage, y_stage)\n",
    "    train_loader = DataLoader(train_dataset, batch_size=batch_size, shuffle=True)\n",
    "\n",
    "    for epoch in range(epochs_per_stage):\n",
    "        model.train()\n",
    "        total_loss, total_correct = 0, 0\n",
    "\n",
    "        for images, labels in train_loader:\n",
    "            images, labels = images.to(device), labels.to(device)\n",
    "            optimizer.zero_grad()\n",
    "            outputs = model(images)\n",
    "            loss = criterion(outputs, labels)\n",
    "            loss.backward()\n",
    "            optimizer.step()\n",
    "\n",
    "            total_loss += loss.item() * labels.size(0)\n",
    "            total_correct += (outputs.argmax(1) == labels).sum().item()\n",
    "\n",
    "        acc = total_correct / len(train_dataset)\n",
    "        print(f\"  Epoch {epoch+1}/{epochs_per_stage} - Loss: {total_loss/len(train_dataset):.4f}, Acc: {acc:.4f}\")\n",
    "        stage_accs.append(acc)\n",
    "        num_examples.append(total_seen)\n",
    "\n",
    "model.eval()\n",
    "total_correct = 0\n",
    "with torch.no_grad():\n",
    "    for images, labels in test_loader:\n",
    "        images, labels = images.to(device), labels.to(device)\n",
    "        outputs = model(images)\n",
    "        total_correct += (outputs.argmax(1) == labels).sum().item()\n",
    "\n",
    "test_acc = total_correct / len(test_dataset)\n",
    "print(f\"\\nFinal Test Accuracy: {test_acc:.4f}\")\n",
    "\n"
   ]
  },
  {
   "cell_type": "code",
   "execution_count": null,
   "metadata": {},
   "outputs": [
    {
     "data": {
      "image/png": "[encoded data removed]",
      "text/plain": [
       "<Figure size 800x500 with 1 Axes>"
      ]
     },
     "metadata": {},
     "output_type": "display_data"
    }
   ],
   "source": [
    "plt.figure(figsize=(8,5))\n",
    "plt.plot(num_examples, stage_accs, marker='o')\n",
    "plt.title(\"MNIST - Stratified  Monte-Carlo sampling: Accuracy vs number of training data\")\n",
    "plt.xlabel(\"Number of training data used\")\n",
    "plt.ylabel(\"Train accuracy\")\n",
    "plt.grid(True)\n",
    "plt.show()"
   ]
  },
  {
   "cell_type": "markdown",
   "metadata": {},
   "source": [
    "# MNIST Dataset with Gaussian Noise"
   ]
  },
  {
   "cell_type": "markdown",
   "metadata": {},
   "source": [
    "## Data Loading"
   ]
  },
  {
   "cell_type": "markdown",
   "metadata": {},
   "source": [
    "We initialize a range of increasing difficulty. \n",
    "- 0.0: no noise — easiest samples\n",
    "- 0.4: very noisy — hardest samples\n",
    "- 0.5+ usually makes MNIST unreadable"
   ]
  },
  {
   "cell_type": "code",
   "execution_count": 23,
   "metadata": {},
   "outputs": [],
   "source": [
    "# Load base MNIST (no transform)\n",
    "base_train = datasets.MNIST(root='./data', train=True, download=True)\n",
    "base_test = datasets.MNIST(root='./data', train=False, download=True)\n",
    "\n",
    "full_data = torch.cat([base_train.data, base_test.data], dim=0).float() / 255.0\n",
    "full_targets = torch.cat([base_train.targets, base_test.targets], dim=0)\n",
    "\n",
    "# Expand with noise\n",
    "noise_levels = [0.0, 0.1, 0.2, 0.3, 0.4]\n",
    "augmented_data, augmented_targets, noise_labels = [], [], []\n",
    "\n",
    "for level in noise_levels:\n",
    "    noise = torch.randn_like(full_data) * level\n",
    "    noisy_data = full_data + noise\n",
    "    noisy_data = torch.clamp(noisy_data, 0.0, 1.0)\n",
    "\n",
    "    augmented_data.append(noisy_data)\n",
    "    augmented_targets.append(full_targets)\n",
    "    noise_labels.append(torch.full_like(full_targets, level))\n",
    "\n",
    "# Combine everything\n",
    "augmented_data = torch.cat(augmented_data, dim=0).unsqueeze(1)  # (N*L, 1, 28, 28)\n",
    "augmented_targets = torch.cat(augmented_targets, dim=0)\n",
    "noise_labels = torch.cat(noise_labels, dim=0)\n",
    "\n",
    "# Final dataset\n",
    "augmented_dataset = TensorDataset(augmented_data, augmented_targets, noise_labels)"
   ]
  },
  {
   "cell_type": "code",
   "execution_count": 24,
   "metadata": {},
   "outputs": [
    {
     "name": "stdout",
     "output_type": "stream",
     "text": [
      "X_train: torch.Size([300000, 1, 28, 28]), y_train: torch.Size([300000])\n",
      "X_test: torch.Size([50000, 1, 28, 28]), y_test: torch.Size([50000])\n"
     ]
    }
   ],
   "source": [
    "N_train = len(base_train)  # 60000\n",
    "N_test = len(base_test)    # 10000\n",
    "\n",
    "samples_per_level = N_train + N_test\n",
    "\n",
    "X_train_list, y_train_list = [], []\n",
    "X_test_list, y_test_list = [], []\n",
    "\n",
    "for i in range(len(noise_levels)):\n",
    "    start = i * samples_per_level\n",
    "    end = start + samples_per_level\n",
    "\n",
    "    X_level = augmented_data[start:end]\n",
    "    y_level = augmented_targets[start:end]\n",
    "\n",
    "    X_train_list.append(X_level[:N_train])\n",
    "    y_train_list.append(y_level[:N_train])\n",
    "    X_test_list.append(X_level[N_train:])\n",
    "    y_test_list.append(y_level[N_train:])\n",
    "\n",
    "X_train = torch.cat(X_train_list, dim=0)\n",
    "y_train = torch.cat(y_train_list, dim=0)\n",
    "X_test = torch.cat(X_test_list, dim=0)\n",
    "y_test = torch.cat(y_test_list, dim=0)\n",
    "\n",
    "print(f\"X_train: {X_train.shape}, y_train: {y_train.shape}\")\n",
    "print(f\"X_test: {X_test.shape}, y_test: {y_test.shape}\")"
   ]
  },
  {
   "cell_type": "code",
   "execution_count": 25,
   "metadata": {},
   "outputs": [
    {
     "name": "stdout",
     "output_type": "stream",
     "text": [
      "noise_levels_train shape: torch.Size([300000])\n"
     ]
    }
   ],
   "source": [
    "noise_levels_train_list = []\n",
    "\n",
    "for i, level in enumerate(noise_levels):\n",
    "    num_train_samples = N_train\n",
    "    noise_level_tensor = torch.full((num_train_samples,), fill_value=i)\n",
    "    \n",
    "    noise_levels_train_list.append(noise_level_tensor)\n",
    "\n",
    "noise_levels_train = torch.cat(noise_levels_train_list, dim=0)\n",
    "\n",
    "print(f\"noise_levels_train shape: {noise_levels_train.shape}\")\n"
   ]
  },
  {
   "cell_type": "markdown",
   "metadata": {},
   "source": [
    "## Analysis"
   ]
  },
  {
   "cell_type": "markdown",
   "metadata": {},
   "source": [
    "### (0) Base Case"
   ]
  },
  {
   "cell_type": "code",
   "execution_count": 26,
   "metadata": {},
   "outputs": [
    {
     "name": "stdout",
     "output_type": "stream",
     "text": [
      "Epoch 1/1 - Train Loss: 0.0876, Train Acc: 0.9728\n",
      "Test Accuracy: 0.9853\n"
     ]
    }
   ],
   "source": [
    "batch_size = 64\n",
    "train_dataset = TensorDataset(X_train, y_train)\n",
    "test_dataset = TensorDataset(X_test, y_test)\n",
    "train_loader = DataLoader(train_dataset, batch_size=batch_size, shuffle=True)  # random sampling baseline\n",
    "test_loader = DataLoader(test_dataset, batch_size=batch_size, shuffle=False)\n",
    "\n",
    "device = torch.device(\"mps\" if torch.backends.mps.is_available() else \"cpu\")\n",
    "model = SmallCNN().to(device)\n",
    "criterion = nn.CrossEntropyLoss()\n",
    "optimizer = torch.optim.Adam(model.parameters(), lr=0.001)\n",
    "\n",
    "epochs = 1\n",
    "for epoch in range(epochs):\n",
    "    model.train()\n",
    "    total_loss, total_correct = 0, 0\n",
    "\n",
    "    for images, labels in train_loader:\n",
    "        images, labels = images.to(device), labels.to(device)\n",
    "        optimizer.zero_grad()\n",
    "        outputs = model(images)\n",
    "        loss = criterion(outputs, labels)\n",
    "        loss.backward()\n",
    "        optimizer.step()\n",
    "\n",
    "        total_loss += loss.item() * labels.size(0)\n",
    "        total_correct += (outputs.argmax(1) == labels).sum().item()\n",
    "\n",
    "    train_acc = total_correct / len(train_dataset)\n",
    "    print(f\"Epoch {epoch+1}/{epochs} - Train Loss: {total_loss/len(train_dataset):.4f}, Train Acc: {train_acc:.4f}\")\n",
    "\n",
    "model.eval()\n",
    "correct = 0\n",
    "with torch.no_grad():\n",
    "    for images, labels in test_loader:\n",
    "        images, labels = images.to(device), labels.to(device)\n",
    "        outputs = model(images)\n",
    "        correct += (outputs.argmax(1) == labels).sum().item()\n",
    "test_acc = correct / len(test_dataset)\n",
    "print(f\"Test Accuracy: {test_acc:.4f}\")"
   ]
  },
  {
   "cell_type": "markdown",
   "metadata": {},
   "source": [
    "### (1) Curriculum Learning"
   ]
  },
  {
   "cell_type": "markdown",
   "metadata": {},
   "source": [
    "#### (1.1) Cumulative Curriculum Learning"
   ]
  },
  {
   "cell_type": "code",
   "execution_count": 29,
   "metadata": {},
   "outputs": [
    {
     "name": "stdout",
     "output_type": "stream",
     "text": [
      "\n",
      "Stage 1/5: Using noise levels <= 0\n",
      "  Epoch 1/1 - Loss: 0.1776, Acc: 0.9440\n",
      "\n",
      "Stage 2/5: Using noise levels <= 1\n",
      "  Epoch 1/1 - Loss: 0.0449, Acc: 0.9860\n",
      "\n",
      "Stage 3/5: Using noise levels <= 2\n",
      "  Epoch 1/1 - Loss: 0.0245, Acc: 0.9920\n",
      "\n",
      "Stage 4/5: Using noise levels <= 3\n",
      "  Epoch 1/1 - Loss: 0.0181, Acc: 0.9940\n",
      "\n",
      "Stage 5/5: Using noise levels <= 4\n",
      "  Epoch 1/1 - Loss: 0.0182, Acc: 0.9940\n",
      "\n",
      "Final Test Accuracy: 0.9873\n"
     ]
    }
   ],
   "source": [
    "stage_accs = []\n",
    "num_examples = []\n",
    "\n",
    "device = torch.device(\"mps\" if torch.backends.mps.is_available() else \"cpu\")\n",
    "model = SmallCNN().to(device)\n",
    "criterion = torch.nn.CrossEntropyLoss()\n",
    "optimizer = torch.optim.Adam(model.parameters(), lr=0.001)\n",
    "\n",
    "batch_size = 64\n",
    "epochs_per_stage = 1\n",
    "num_stages = 5\n",
    "\n",
    "for stage in range(num_stages):\n",
    "    print(f\"\\nStage {stage+1}/{num_stages}: Using noise levels <= {stage}\")\n",
    "    \n",
    "    stage_mask = noise_levels_train <= stage\n",
    "    X_stage = X_train[stage_mask]\n",
    "    y_stage = y_train[stage_mask]\n",
    "\n",
    "    train_dataset = TensorDataset(X_stage, y_stage)\n",
    "    train_loader = DataLoader(train_dataset, batch_size=batch_size, shuffle=True)\n",
    "\n",
    "    for epoch in range(epochs_per_stage):\n",
    "        model.train()\n",
    "        total_loss, total_correct = 0, 0\n",
    "\n",
    "        for images, labels in train_loader:\n",
    "            images, labels = images.to(device), labels.to(device)\n",
    "            optimizer.zero_grad()\n",
    "            outputs = model(images)\n",
    "            loss = criterion(outputs, labels)\n",
    "            loss.backward()\n",
    "            optimizer.step()\n",
    "\n",
    "            total_loss += loss.item() * labels.size(0)\n",
    "            total_correct += (outputs.argmax(1) == labels).sum().item()\n",
    "\n",
    "        acc = total_correct / len(train_dataset)\n",
    "        print(f\"  Epoch {epoch+1}/{epochs_per_stage} - Loss: {total_loss/len(train_dataset):.4f}, Acc: {acc:.4f}\")\n",
    "\n",
    "        stage_accs.append(acc)\n",
    "        num_examples.append(np.sum([len(X_train[noise_levels_train <= s]) for s in range(stage+1)]))\n",
    "\n",
    "test_dataset = TensorDataset(X_test, y_test)\n",
    "test_loader = DataLoader(test_dataset, batch_size=batch_size)\n",
    "\n",
    "model.eval()\n",
    "total_correct = 0\n",
    "with torch.no_grad():\n",
    "    for images, labels in test_loader:\n",
    "        images, labels = images.to(device), labels.to(device)\n",
    "        outputs = model(images)\n",
    "        total_correct += (outputs.argmax(1) == labels).sum().item()\n",
    "\n",
    "test_acc = total_correct / len(test_dataset)\n",
    "print(f\"\\nFinal Test Accuracy: {test_acc:.4f}\")"
   ]
  },
  {
   "cell_type": "code",
   "execution_count": null,
   "metadata": {},
   "outputs": [
    {
     "data": {
      "image/png": "[encoded data removed]",
      "text/plain": [
       "<Figure size 800x500 with 1 Axes>"
      ]
     },
     "metadata": {},
     "output_type": "display_data"
    }
   ],
   "source": [
    "plt.figure(figsize=(8,5))\n",
    "plt.plot(num_examples, stage_accs, marker='o')\n",
    "plt.title(\"MNIST with Gaussian noise - Cumulative curriculum learning : Accuracy vs number of Training Data\")\n",
    "plt.xlabel(\"Number of training data used\")\n",
    "plt.ylabel(\"train accuracy\")\n",
    "plt.grid(True)\n",
    "for i, (x, y) in enumerate(zip(num_examples, stage_accs)):\n",
    "    plt.text(x, y, f\"noise ≤ {i}\", fontsize=8, ha='center', va='bottom')\n",
    "plt.show()"
   ]
  },
  {
   "cell_type": "markdown",
   "metadata": {},
   "source": [
    "#### (1.2) Strict Curriculum Learning"
   ]
  },
  {
   "cell_type": "code",
   "execution_count": 31,
   "metadata": {},
   "outputs": [
    {
     "name": "stdout",
     "output_type": "stream",
     "text": [
      "\n",
      "Stage 1/5: Using noise level 0\n",
      "  Epoch 1/1 - Loss: 0.1719, Acc: 0.9478\n",
      "\n",
      "Stage 2/5: Using noise level 1\n",
      "  Epoch 1/1 - Loss: 0.0514, Acc: 0.9843\n",
      "\n",
      "Stage 3/5: Using noise level 2\n",
      "  Epoch 1/1 - Loss: 0.0425, Acc: 0.9864\n",
      "\n",
      "Stage 4/5: Using noise level 3\n",
      "  Epoch 1/1 - Loss: 0.0433, Acc: 0.9861\n",
      "\n",
      "Stage 5/5: Using noise level 4\n",
      "  Epoch 1/1 - Loss: 0.0609, Acc: 0.9801\n",
      "\n",
      "Final Test Accuracy: 0.9883\n"
     ]
    }
   ],
   "source": [
    "stage_accs = []\n",
    "noise_levels = []\n",
    "num_examples = []\n",
    "\n",
    "device = torch.device(\"mps\" if torch.backends.mps.is_available() else \"cpu\")\n",
    "model = SmallCNN().to(device)\n",
    "criterion = torch.nn.CrossEntropyLoss()\n",
    "optimizer = torch.optim.Adam(model.parameters(), lr=0.001)\n",
    "\n",
    "batch_size = 64\n",
    "epochs_per_stage = 1\n",
    "num_stages = 5\n",
    "\n",
    "for stage in range(num_stages):\n",
    "    print(f\"\\nStage {stage+1}/{num_stages}: Using noise level {stage}\")\n",
    "    \n",
    "    stage_mask = noise_levels_train == stage\n",
    "    X_stage = X_train[stage_mask]\n",
    "    y_stage = y_train[stage_mask]\n",
    "\n",
    "    train_dataset = TensorDataset(X_stage, y_stage)\n",
    "    train_loader = DataLoader(train_dataset, batch_size=batch_size, shuffle=True)\n",
    "\n",
    "    for epoch in range(epochs_per_stage):\n",
    "        model.train()\n",
    "        total_loss, total_correct = 0, 0\n",
    "\n",
    "        for images, labels in train_loader:\n",
    "            images, labels = images.to(device), labels.to(device)\n",
    "            optimizer.zero_grad()\n",
    "            outputs = model(images)\n",
    "            loss = criterion(outputs, labels)\n",
    "            loss.backward()\n",
    "            optimizer.step()\n",
    "\n",
    "            total_loss += loss.item() * labels.size(0)\n",
    "            total_correct += (outputs.argmax(1) == labels).sum().item()\n",
    "\n",
    "        acc = total_correct / len(train_dataset)\n",
    "        print(f\"  Epoch {epoch+1}/{epochs_per_stage} - Loss: {total_loss/len(train_dataset):.4f}, Acc: {acc:.4f}\")\n",
    "\n",
    "        stage_accs.append(acc)\n",
    "        noise_levels.append(stage)\n",
    "        num_examples.append(len(X_stage))\n",
    "\n",
    "test_dataset = TensorDataset(X_test, y_test)\n",
    "test_loader = DataLoader(test_dataset, batch_size=batch_size)\n",
    "\n",
    "model.eval()\n",
    "total_correct = 0\n",
    "with torch.no_grad():\n",
    "    for images, labels in test_loader:\n",
    "        images, labels = images.to(device), labels.to(device)\n",
    "        outputs = model(images)\n",
    "        total_correct += (outputs.argmax(1) == labels).sum().item()\n",
    "\n",
    "test_acc = total_correct / len(test_dataset)\n",
    "print(f\"\\nFinal Test Accuracy: {test_acc:.4f}\")"
   ]
  },
  {
   "cell_type": "code",
   "execution_count": null,
   "metadata": {},
   "outputs": [
    {
     "data": {
      "image/png": "[encoded data removed]",
      "text/plain": [
       "<Figure size 800x500 with 1 Axes>"
      ]
     },
     "metadata": {},
     "output_type": "display_data"
    }
   ],
   "source": [
    "plt.figure(figsize=(8,5))\n",
    "plt.plot(noise_levels, stage_accs, marker='o')\n",
    "plt.title(\"MNIST with Gaussian noise - Strict curriculum learning : Accuracy vs number of noise level\")\n",
    "plt.xlabel(\"Noise level\")\n",
    "plt.ylabel(\"Train accuracy\")\n",
    "plt.xticks(noise_levels)\n",
    "plt.grid(True)\n",
    "plt.show()"
   ]
  },
  {
   "cell_type": "markdown",
   "metadata": {},
   "source": [
    "### (2) Self-Paced Learning"
   ]
  },
  {
   "cell_type": "markdown",
   "metadata": {},
   "source": [
    "We will use the same X_train, X_test, y_train and y_test computed in the curriculum learning phase.\n",
    "To implement the SPL we will introduce a difficulty threshold to let the model choose how many samples of this difficulty it is ready to handle.\n",
    "\n",
    "Because our objective is to see the influence of order on the training, we will stop training once the model saw the entire dataset. To be fair with the other techniques where they see the data only once."
   ]
  },
  {
   "cell_type": "code",
   "execution_count": null,
   "metadata": {},
   "outputs": [
    {
     "name": "stdout",
     "output_type": "stream",
     "text": [
      "tensor(2.1542)\n",
      "tensor(2.4577)\n",
      "Epoch 1: lambda=2.250, selected 68873/300000 samples\n",
      "  Training Loss: 0.0923, Accuracy: 0.9683\n",
      "tensor(-0.)\n",
      "tensor(41.5899)\n",
      "Epoch 2: lambda=4.250, selected 119147/300000 samples\n",
      "  Training Loss: 0.0321, Accuracy: 0.9885\n",
      "tensor(-0.)\n",
      "tensor(53.7047)\n",
      "Epoch 3: lambda=6.250, selected 120500/300000 samples\n",
      "  Training Loss: 0.0246, Accuracy: 0.9915\n",
      "tensor(-0.)\n",
      "tensor(64.2613)\n",
      "Epoch 4: lambda=8.250, selected 186858/300000 samples\n",
      "  Training Loss: 0.0396, Accuracy: 0.9870\n",
      "tensor(-0.)\n",
      "tensor(63.6075)\n",
      "Epoch 5: lambda=10.250, selected 267750/300000 samples\n",
      "  Training Loss: 0.0400, Accuracy: 0.9865\n",
      "tensor(-0.)\n",
      "tensor(42.1693)\n",
      "Epoch 6: lambda=12.250, selected 299173/300000 samples\n",
      "  Training Loss: 0.0392, Accuracy: 0.9871\n",
      "tensor(-0.)\n",
      "tensor(29.9628)\n",
      "Epoch 7: lambda=14.250, selected 299993/300000 samples\n",
      "  Training Loss: 0.0261, Accuracy: 0.9912\n",
      "tensor(-0.)\n",
      "tensor(26.0948)\n",
      "Epoch 8: lambda=16.250, selected 299995/300000 samples\n",
      "  Training Loss: 0.0166, Accuracy: 0.9942\n",
      "tensor(-0.)\n",
      "tensor(29.8680)\n",
      "Epoch 9: lambda=18.250, selected 299995/300000 samples\n",
      "  Training Loss: 0.0122, Accuracy: 0.9958\n",
      "tensor(-0.)\n",
      "tensor(32.6593)\n",
      "Epoch 10: lambda=20.250, selected 299995/300000 samples\n",
      "  Training Loss: 0.0093, Accuracy: 0.9968\n",
      "\n",
      "Final Test Accuracy: 0.9816\n"
     ]
    }
   ],
   "source": [
    "device = torch.device(\"mps\" if torch.backends.mps.is_available() else \"cpu\")\n",
    "model = SmallCNN().to(device)\n",
    "criterion = torch.nn.CrossEntropyLoss(reduction='none')\n",
    "optimizer = torch.optim.Adam(model.parameters(), lr=0.001)\n",
    "\n",
    "batch_size = 64\n",
    "epochs = 10\n",
    "initial_lambda = 2.25  # initial difficulty threshold\n",
    "lambda_increment = 2  # increase per epoch\n",
    "\n",
    "full_train_dataset = TensorDataset(X_train, y_train)\n",
    "full_train_loader = DataLoader(full_train_dataset, batch_size=batch_size, shuffle=False)\n",
    "\n",
    "for epoch in range(epochs):\n",
    "    model.eval()\n",
    "    all_losses = []\n",
    "\n",
    "    with torch.no_grad():\n",
    "        for images, labels in full_train_loader:\n",
    "            images, labels = images.to(device), labels.to(device)\n",
    "            outputs = model(images)\n",
    "            losses = criterion(outputs, labels)\n",
    "            all_losses.append(losses.cpu())\n",
    "\n",
    "    all_losses = torch.cat(all_losses)\n",
    "    print(torch.min(all_losses))\n",
    "    print(torch.max(all_losses))\n",
    "\n",
    "    lambda_threshold = initial_lambda + epoch * lambda_increment\n",
    "\n",
    "    selected_indices = (all_losses <= lambda_threshold).nonzero(as_tuple=True)[0]\n",
    "\n",
    "    if len(selected_indices) == 0:\n",
    "        print(f\"Epoch {epoch+1}: No samples selected for training (lambda={lambda_threshold:.3f}), stopping early.\")\n",
    "        break\n",
    "\n",
    "    print(f\"Epoch {epoch+1}: lambda={lambda_threshold:.3f}, selected {len(selected_indices)}/{len(X_train)} samples\")\n",
    "\n",
    "    train_subset = TensorDataset(X_train[selected_indices], y_train[selected_indices])\n",
    "    train_loader = DataLoader(train_subset, batch_size=batch_size, shuffle=True)\n",
    "\n",
    "    model.train()\n",
    "    total_loss, total_correct = 0, 0\n",
    "    for images, labels in train_loader:\n",
    "        images, labels = images.to(device), labels.to(device)\n",
    "        optimizer.zero_grad()\n",
    "        outputs = model(images)\n",
    "        loss = criterion(outputs, labels).mean()\n",
    "        loss.backward()\n",
    "        optimizer.step()\n",
    "\n",
    "        total_loss += loss.item() * labels.size(0)\n",
    "        total_correct += (outputs.argmax(1) == labels).sum().item()\n",
    "\n",
    "    acc = total_correct / len(train_subset)\n",
    "    print(f\"  Training Loss: {total_loss/len(train_subset):.4f}, Accuracy: {acc:.4f}\")\n",
    "\n",
    "    if len(selected_indices) == len(X_train):\n",
    "        print(f\"  All samples were selected, stopping early.\")\n",
    "        break\n",
    "\n",
    "test_dataset = TensorDataset(X_test, y_test)\n",
    "test_loader = DataLoader(test_dataset, batch_size=batch_size)\n",
    "\n",
    "model.eval()\n",
    "total_correct = 0\n",
    "with torch.no_grad():\n",
    "    for images, labels in test_loader:\n",
    "        images, labels = images.to(device), labels.to(device)\n",
    "        outputs = model(images)\n",
    "        total_correct += (outputs.argmax(1) == labels).sum().item()\n",
    "\n",
    "test_acc = total_correct / len(test_dataset)\n",
    "print(f\"\\nFinal Test Accuracy: {test_acc:.4f}\")\n"
   ]
  },
  {
   "cell_type": "markdown",
   "metadata": {},
   "source": [
    "An idea could be to combine the difficulty scores from the noise levels with the increments in SLP:\n",
    "\n",
    "\n",
    "**Option A: Use Noise Difficulty as a Prior or Weight for Lambda Threshold**\n",
    "\n",
    "- Adjust the SPL threshold (`λ`) for each sample by incorporating its noise difficulty:\n",
    "\n",
    "\\[\n",
    "\\lambda_i = \\lambda_{\\text{base}} + \\alpha \\times \\text{noise\\_level}_i\n",
    "\\]\n",
    "\n",
    "- Samples with higher noise difficulty require a higher loss to be included, effectively entering the curriculum later.\n",
    "\n",
    "**Option B: Use Noise Difficulty for Initial Sample Filtering**\n",
    "\n",
    "- Start SPL training using only samples with noise difficulty below a certain threshold (e.g., noise_level ≤ 0.2).\n",
    "- Gradually expand the training set to include samples with higher noise difficulty as training progresses.\n",
    "\n",
    "**Option C: Weighted Loss or Thresholding by Noise Difficulty Quantiles**\n",
    "\n",
    "- Group samples by their noise difficulty levels.\n",
    "- Compute separate SPL loss thresholds for each noise group.\n",
    "- Allow lower thresholds (easier inclusion) for low-noise groups and higher thresholds for high-noise groups.\n",
    "- This respects both the *a priori* noise difficulty and the *dynamic* training loss."
   ]
  },
  {
   "cell_type": "markdown",
   "metadata": {},
   "source": [
    "### (3) Hard-Example Mining"
   ]
  },
  {
   "cell_type": "code",
   "execution_count": 34,
   "metadata": {},
   "outputs": [
    {
     "name": "stdout",
     "output_type": "stream",
     "text": [
      "Selected 120000 hard examples out of 300000\n",
      "Epoch 1/5 - Loss: 0.1870, Accuracy: 0.9418\n",
      "Epoch 2/5 - Loss: 0.0628, Accuracy: 0.9801\n",
      "Epoch 3/5 - Loss: 0.0441, Accuracy: 0.9858\n",
      "Epoch 4/5 - Loss: 0.0322, Accuracy: 0.9893\n",
      "Epoch 5/5 - Loss: 0.0229, Accuracy: 0.9924\n",
      "\n",
      "Final Test Accuracy: 0.9868\n"
     ]
    }
   ],
   "source": [
    "train_accs = []\n",
    "epochs_list = []\n",
    "\n",
    "device = torch.device(\"mps\" if torch.backends.mps.is_available() else \"cpu\")\n",
    "model = SmallCNN().to(device)\n",
    "criterion = torch.nn.CrossEntropyLoss()\n",
    "optimizer = torch.optim.Adam(model.parameters(), lr=0.001)\n",
    "\n",
    "batch_size = 64\n",
    "epochs = 5\n",
    "\n",
    "# Define what \"hard\" means: top 1 or 2 noise levels (e.g., 0.3 and 0.4)\n",
    "# If noise_levels_train goes from 0 to 4 (for noise 0.0 to 0.4), we can take levels >= 3\n",
    "hard_mask = noise_levels_train >= 3\n",
    "\n",
    "\n",
    "X_hard = X_train[hard_mask]\n",
    "y_hard = y_train[hard_mask]\n",
    "print(f\"Selected {len(X_hard)} hard examples out of {len(X_train)}\")\n",
    "\n",
    "hard_dataset = TensorDataset(X_hard, y_hard)\n",
    "hard_loader = DataLoader(hard_dataset, batch_size=batch_size, shuffle=True)\n",
    "\n",
    "for epoch in range(epochs):\n",
    "    model.train()\n",
    "    total_loss, total_correct = 0, 0\n",
    "\n",
    "    for images, labels in hard_loader:\n",
    "        images, labels = images.to(device), labels.to(device)\n",
    "        optimizer.zero_grad()\n",
    "        outputs = model(images)\n",
    "        loss = criterion(outputs, labels)\n",
    "        loss.backward()\n",
    "        optimizer.step()\n",
    "\n",
    "        total_loss += loss.item() * labels.size(0)\n",
    "        total_correct += (outputs.argmax(1) == labels).sum().item()\n",
    "\n",
    "    acc = total_correct / len(hard_dataset)\n",
    "    print(f\"Epoch {epoch+1}/{epochs} - Loss: {total_loss/len(hard_dataset):.4f}, Accuracy: {acc:.4f}\")\n",
    "\n",
    "    train_accs.append(acc)\n",
    "    epochs_list.append(epoch + 1)\n",
    "\n",
    "test_dataset = TensorDataset(X_test, y_test)\n",
    "test_loader = DataLoader(test_dataset, batch_size=batch_size)\n",
    "\n",
    "model.eval()\n",
    "total_correct = 0\n",
    "with torch.no_grad():\n",
    "    for images, labels in test_loader:\n",
    "        images, labels = images.to(device), labels.to(device)\n",
    "        outputs = model(images)\n",
    "        total_correct += (outputs.argmax(1) == labels).sum().item()\n",
    "\n",
    "test_acc = total_correct / len(test_dataset)\n",
    "print(f\"\\nFinal Test Accuracy: {test_acc:.4f}\")\n"
   ]
  },
  {
   "cell_type": "code",
   "execution_count": null,
   "metadata": {},
   "outputs": [
    {
     "data": {
      "image/png": "[encoded data removed]",
      "text/plain": [
       "<Figure size 800x500 with 1 Axes>"
      ]
     },
     "metadata": {},
     "output_type": "display_data"
    }
   ],
   "source": [
    "plt.figure(figsize=(8,5))\n",
    "plt.plot(epochs_list, train_accs, marker='o')\n",
    "plt.title(\"MNIST with Gaussian noise - Hard-Example Mining : Accuracy vs number of Epoch\")\n",
    "plt.xlabel(\"Epoch\")\n",
    "plt.ylabel(\"Train accuracy\")\n",
    "plt.ylim(0, 1)\n",
    "plt.grid(True)\n",
    "plt.show()"
   ]
  },
  {
   "cell_type": "markdown",
   "metadata": {},
   "source": [
    "### (4) Reverse Curriculum Learning"
   ]
  },
  {
   "cell_type": "markdown",
   "metadata": {},
   "source": [
    "#### (4.1) Cumulative Reverse Curriculum Learning"
   ]
  },
  {
   "cell_type": "code",
   "execution_count": 36,
   "metadata": {},
   "outputs": [
    {
     "name": "stdout",
     "output_type": "stream",
     "text": [
      "\n",
      "Stage 5/5: Using noise levels >= 4\n",
      "  Epoch 1/1 - Loss: 0.3362, Acc: 0.8938\n",
      "\n",
      "Stage 4/5: Using noise levels >= 3\n",
      "  Epoch 1/1 - Loss: 0.0886, Acc: 0.9720\n",
      "\n",
      "Stage 3/5: Using noise levels >= 2\n",
      "  Epoch 1/1 - Loss: 0.0497, Acc: 0.9839\n",
      "\n",
      "Stage 2/5: Using noise levels >= 1\n",
      "  Epoch 1/1 - Loss: 0.0297, Acc: 0.9904\n",
      "\n",
      "Stage 1/5: Using noise levels >= 0\n",
      "  Epoch 1/1 - Loss: 0.0191, Acc: 0.9935\n",
      "\n",
      "Final Test Accuracy: 0.9874\n"
     ]
    }
   ],
   "source": [
    "stage_accs = []\n",
    "min_noise_levels = []\n",
    "num_examples = []\n",
    "\n",
    "device = torch.device(\"mps\" if torch.backends.mps.is_available() else \"cpu\")\n",
    "model = SmallCNN().to(device)\n",
    "criterion = torch.nn.CrossEntropyLoss()\n",
    "optimizer = torch.optim.Adam(model.parameters(), lr=0.001)\n",
    "\n",
    "batch_size = 64\n",
    "epochs_per_stage = 1 \n",
    "num_stages = 5\n",
    "\n",
    "for stage in reversed(range(num_stages)):\n",
    "    print(f\"\\nStage {stage+1}/{num_stages}: Using noise levels >= {stage}\")\n",
    "    \n",
    "    stage_mask = noise_levels_train >= stage\n",
    "    X_stage = X_train[stage_mask]\n",
    "    y_stage = y_train[stage_mask]\n",
    "\n",
    "    train_dataset = TensorDataset(X_stage, y_stage)\n",
    "    train_loader = DataLoader(train_dataset, batch_size=batch_size, shuffle=True)\n",
    "\n",
    "    for epoch in range(epochs_per_stage):\n",
    "        model.train()\n",
    "        total_loss, total_correct = 0, 0\n",
    "\n",
    "        for images, labels in train_loader:\n",
    "            images, labels = images.to(device), labels.to(device)\n",
    "            optimizer.zero_grad()\n",
    "            outputs = model(images)\n",
    "            loss = criterion(outputs, labels)\n",
    "            loss.backward()\n",
    "            optimizer.step()\n",
    "\n",
    "            total_loss += loss.item() * labels.size(0)\n",
    "            total_correct += (outputs.argmax(1) == labels).sum().item()\n",
    "\n",
    "        acc = total_correct / len(train_dataset)\n",
    "        print(f\"  Epoch {epoch+1}/{epochs_per_stage} - Loss: {total_loss/len(train_dataset):.4f}, Acc: {acc:.4f}\")\n",
    "\n",
    "        stage_accs.append(acc)\n",
    "        min_noise_levels.append(stage)\n",
    "        num_examples.append(len(X_stage))\n",
    "\n",
    "test_dataset = TensorDataset(X_test, y_test)\n",
    "test_loader = DataLoader(test_dataset, batch_size=batch_size)\n",
    "\n",
    "model.eval()\n",
    "total_correct = 0\n",
    "with torch.no_grad():\n",
    "    for images, labels in test_loader:\n",
    "        images, labels = images.to(device), labels.to(device)\n",
    "        outputs = model(images)\n",
    "        total_correct += (outputs.argmax(1) == labels).sum().item()\n",
    "\n",
    "test_acc = total_correct / len(test_dataset)\n",
    "print(f\"\\nFinal Test Accuracy: {test_acc:.4f}\")"
   ]
  },
  {
   "cell_type": "code",
   "execution_count": null,
   "metadata": {},
   "outputs": [
    {
     "data": {
      "image/png": "[encoded data removed]",
      "text/plain": [
       "<Figure size 800x500 with 1 Axes>"
      ]
     },
     "metadata": {},
     "output_type": "display_data"
    }
   ],
   "source": [
    "plt.figure(figsize=(8,5))\n",
    "plt.plot(min_noise_levels, stage_accs, marker='o')\n",
    "plt.title(\"MNIST with Gaussian noise - Cumulative reverse curriculum learning : Accuracy vs minimum noise level\")\n",
    "plt.xlabel(\"minimum noise level\")\n",
    "plt.ylabel(\"Train accuracy\")\n",
    "plt.xticks(min_noise_levels)  # Pour afficher 0, 1, 2, 3, 4\n",
    "plt.gca().invert_xaxis()      # Pour afficher du plus bruité vers le moins bruité (optionnel mais pertinent ici)\n",
    "plt.grid(True)\n",
    "plt.show()"
   ]
  },
  {
   "cell_type": "markdown",
   "metadata": {},
   "source": [
    "#### (4.2) Strict Reverse Curriculum Learning"
   ]
  },
  {
   "cell_type": "code",
   "execution_count": 38,
   "metadata": {},
   "outputs": [
    {
     "name": "stdout",
     "output_type": "stream",
     "text": [
      "\n",
      "Stage 5/5: Using noise level 4\n",
      "  Epoch 1/1 - Loss: 0.2786, Acc: 0.9120\n",
      "\n",
      "Stage 4/5: Using noise level 3\n",
      "  Epoch 1/1 - Loss: 0.0781, Acc: 0.9748\n",
      "\n",
      "Stage 3/5: Using noise level 2\n",
      "  Epoch 1/1 - Loss: 0.0464, Acc: 0.9850\n",
      "\n",
      "Stage 2/5: Using noise level 1\n",
      "  Epoch 1/1 - Loss: 0.0322, Acc: 0.9901\n",
      "\n",
      "Stage 1/5: Using noise level 0\n",
      "  Epoch 1/1 - Loss: 0.0241, Acc: 0.9921\n",
      "\n",
      "Final Test Accuracy: 0.9842\n"
     ]
    }
   ],
   "source": [
    "stage_accs = []\n",
    "noise_levels = []\n",
    "num_examples = []\n",
    "\n",
    "device = torch.device(\"mps\" if torch.backends.mps.is_available() else \"cpu\")\n",
    "model = SmallCNN().to(device)\n",
    "criterion = torch.nn.CrossEntropyLoss()\n",
    "optimizer = torch.optim.Adam(model.parameters(), lr=0.001)\n",
    "\n",
    "batch_size = 64\n",
    "epochs_per_stage = 1\n",
    "num_stages = 5\n",
    "\n",
    "for stage in reversed(range(num_stages)):\n",
    "    print(f\"\\nStage {stage+1}/{num_stages}: Using noise level {stage}\")\n",
    "    \n",
    "    stage_mask = noise_levels_train == stage\n",
    "    X_stage = X_train[stage_mask]\n",
    "    y_stage = y_train[stage_mask]\n",
    "\n",
    "    train_dataset = TensorDataset(X_stage, y_stage)\n",
    "    train_loader = DataLoader(train_dataset, batch_size=batch_size, shuffle=True)\n",
    "\n",
    "    for epoch in range(epochs_per_stage):\n",
    "        model.train()\n",
    "        total_loss, total_correct = 0, 0\n",
    "\n",
    "        for images, labels in train_loader:\n",
    "            images, labels = images.to(device), labels.to(device)\n",
    "            optimizer.zero_grad()\n",
    "            outputs = model(images)\n",
    "            loss = criterion(outputs, labels)\n",
    "            loss.backward()\n",
    "            optimizer.step()\n",
    "\n",
    "            total_loss += loss.item() * labels.size(0)\n",
    "            total_correct += (outputs.argmax(1) == labels).sum().item()\n",
    "\n",
    "        acc = total_correct / len(train_dataset)\n",
    "        print(f\"  Epoch {epoch+1}/{epochs_per_stage} - Loss: {total_loss/len(train_dataset):.4f}, Acc: {acc:.4f}\")\n",
    "\n",
    "        stage_accs.append(acc)\n",
    "        noise_levels.append(stage)\n",
    "        num_examples.append(len(X_stage))\n",
    "\n",
    "test_dataset = TensorDataset(X_test, y_test)\n",
    "test_loader = DataLoader(test_dataset, batch_size=batch_size)\n",
    "\n",
    "model.eval()\n",
    "total_correct = 0\n",
    "with torch.no_grad():\n",
    "    for images, labels in test_loader:\n",
    "        images, labels = images.to(device), labels.to(device)\n",
    "        outputs = model(images)\n",
    "        total_correct += (outputs.argmax(1) == labels).sum().item()\n",
    "\n",
    "test_acc = total_correct / len(test_dataset)\n",
    "print(f\"\\nFinal Test Accuracy: {test_acc:.4f}\")"
   ]
  },
  {
   "cell_type": "code",
   "execution_count": null,
   "metadata": {},
   "outputs": [
    {
     "data": {
      "image/png": "[encoded data removed]",
      "text/plain": [
       "<Figure size 800x500 with 1 Axes>"
      ]
     },
     "metadata": {},
     "output_type": "display_data"
    }
   ],
   "source": [
    "plt.figure(figsize=(8,5))\n",
    "plt.plot(noise_levels, stage_accs, marker='o')\n",
    "plt.title(\"MNIST with Gaussian noise - Strict reverse curriculum learning : Accuracy vs noise level\")\n",
    "plt.xlabel(\"Noise level exact\")\n",
    "plt.ylabel(\"Train accuracy\")\n",
    "plt.xticks(noise_levels)\n",
    "plt.gca().invert_xaxis()\n",
    "plt.grid(True)\n",
    "plt.show()"
   ]
  },
  {
   "cell_type": "markdown",
   "metadata": {},
   "source": [
    "### (5) Stratified Monte-Carlo Sampling"
   ]
  },
  {
   "cell_type": "markdown",
   "metadata": {},
   "source": [
    "**Stratified Monte Carlo Sampling** is a variance reduction technique where the input space is divided into distinct strata (subregions), and samples are drawn from each stratum. This ensures more uniform coverage of the space compared to standard Monte Carlo sampling, leading to more accurate and stable estimates with fewer samples."
   ]
  },
  {
   "cell_type": "code",
   "execution_count": 40,
   "metadata": {},
   "outputs": [
    {
     "name": "stdout",
     "output_type": "stream",
     "text": [
      "\n",
      "Stage 1/5: Sampling from stage level = 0\n",
      "  Epoch 1/1 - Loss: 0.6053, Acc: 0.8159\n",
      "\n",
      "Stage 2/5: Sampling from stage level = 1\n",
      "  Epoch 1/1 - Loss: 0.1467, Acc: 0.9556\n",
      "\n",
      "Stage 3/5: Sampling from stage level = 2\n",
      "  Epoch 1/1 - Loss: 0.1125, Acc: 0.9663\n",
      "\n",
      "Stage 4/5: Sampling from stage level = 3\n",
      "  Epoch 1/1 - Loss: 0.1215, Acc: 0.9616\n",
      "\n",
      "Stage 5/5: Sampling from stage level = 4\n",
      "  Epoch 1/1 - Loss: 0.1468, Acc: 0.9522\n",
      "\n",
      "Final Test Accuracy: 0.9730\n"
     ]
    }
   ],
   "source": [
    "stage_accs = []\n",
    "noise_levels = []\n",
    "num_examples = []\n",
    "\n",
    "device = torch.device(\"mps\" if torch.backends.mps.is_available() else \"cpu\")\n",
    "model = SmallCNN().to(device)\n",
    "criterion = torch.nn.CrossEntropyLoss()\n",
    "optimizer = torch.optim.Adam(model.parameters(), lr=0.001)\n",
    "\n",
    "batch_size = 64\n",
    "epochs_per_stage = 1 \n",
    "num_stages = 5\n",
    "samples_per_stage = 10000\n",
    "\n",
    "for stage in range(num_stages):\n",
    "    print(f\"\\nStage {stage+1}/{num_stages}: Sampling from stage level = {stage}\")\n",
    "    \n",
    "    stage_mask = (noise_levels_train == stage).nonzero(as_tuple=True)[0]\n",
    "    \n",
    "    # Randomly sample without replacement\n",
    "    if len(stage_mask) < samples_per_stage:\n",
    "        print(f\"  Warning: only {len(stage_mask)} samples available, using all.\")\n",
    "        selected_indices = stage_mask\n",
    "    else:\n",
    "        selected_indices = stage_mask[torch.randperm(len(stage_mask))[:samples_per_stage]]\n",
    "    \n",
    "    X_stage = X_train[selected_indices]\n",
    "    y_stage = y_train[selected_indices]\n",
    "    train_dataset = TensorDataset(X_stage, y_stage)\n",
    "    train_loader = DataLoader(train_dataset, batch_size=batch_size, shuffle=True)\n",
    "\n",
    "    for epoch in range(epochs_per_stage):\n",
    "        model.train()\n",
    "        total_loss, total_correct = 0, 0\n",
    "\n",
    "        for images, labels in train_loader:\n",
    "            images, labels = images.to(device), labels.to(device)\n",
    "            optimizer.zero_grad()\n",
    "            outputs = model(images)\n",
    "            loss = criterion(outputs, labels)\n",
    "            loss.backward()\n",
    "            optimizer.step()\n",
    "\n",
    "            total_loss += loss.item() * labels.size(0)\n",
    "            total_correct += (outputs.argmax(1) == labels).sum().item()\n",
    "\n",
    "        acc = total_correct / len(train_dataset)\n",
    "        print(f\"  Epoch {epoch+1}/{epochs_per_stage} - Loss: {total_loss/len(train_dataset):.4f}, Acc: {acc:.4f}\")\n",
    "\n",
    "        stage_accs.append(acc)\n",
    "        noise_levels.append(stage)\n",
    "        num_examples.append(len(train_dataset))\n",
    "\n",
    "test_dataset = TensorDataset(X_test, y_test)\n",
    "test_loader = DataLoader(test_dataset, batch_size=batch_size)\n",
    "\n",
    "model.eval()\n",
    "total_correct = 0\n",
    "with torch.no_grad():\n",
    "    for images, labels in test_loader:\n",
    "        images, labels = images.to(device), labels.to(device)\n",
    "        outputs = model(images)\n",
    "        total_correct += (outputs.argmax(1) == labels).sum().item()\n",
    "\n",
    "test_acc = total_correct / len(test_dataset)\n",
    "print(f\"\\nFinal Test Accuracy: {test_acc:.4f}\")\n"
   ]
  },
  {
   "cell_type": "code",
   "execution_count": null,
   "metadata": {},
   "outputs": [
    {
     "data": {
      "image/png": "[encoded data removed]",
      "text/plain": [
       "<Figure size 800x500 with 1 Axes>"
      ]
     },
     "metadata": {},
     "output_type": "display_data"
    }
   ],
   "source": [
    "plt.figure(figsize=(8,5))\n",
    "plt.plot(noise_levels, stage_accs, marker='o')\n",
    "plt.title(\"MNIST with Gaussian noise - Stratified Monte-Carlo Sampling : Accuracy vs noise level\")\n",
    "plt.xlabel(\"Noise level\")\n",
    "plt.ylabel(\"Train accuracy\")\n",
    "plt.xticks(noise_levels)\n",
    "plt.grid(True)\n",
    "plt.show()"
   ]
  },
  {
   "cell_type": "markdown",
   "metadata": {},
   "source": [
    "# MNIST Dataset with Impulse Noise"
   ]
  },
  {
   "cell_type": "markdown",
   "metadata": {},
   "source": [
    "## Data Loading"
   ]
  },
  {
   "cell_type": "markdown",
   "metadata": {},
   "source": [
    "We initialize a range of increasing difficulty. \n",
    "- 0.0: no noise — easiest samples\n",
    "- 0.4: very noisy — hardest samples\n",
    "- 0.5+ usually makes MNIST unreadable"
   ]
  },
  {
   "cell_type": "code",
   "execution_count": 42,
   "metadata": {},
   "outputs": [
    {
     "name": "stdout",
     "output_type": "stream",
     "text": [
      "X_train: torch.Size([300000, 1, 28, 28]), y_train: torch.Size([300000])\n",
      "X_test: torch.Size([50000, 1, 28, 28]), y_test: torch.Size([50000])\n",
      "noise_levels_train shape: torch.Size([300000])\n"
     ]
    }
   ],
   "source": [
    "base_train = datasets.MNIST(root='./data', train=True, download=True)\n",
    "base_test = datasets.MNIST(root='./data', train=False, download=True)\n",
    "\n",
    "full_data = torch.cat([base_train.data, base_test.data], dim=0).float() / 255.0\n",
    "full_targets = torch.cat([base_train.targets, base_test.targets], dim=0)\n",
    "\n",
    "noise_levels = [0.0, 0.1, 0.2, 0.3, 0.4]\n",
    "\n",
    "augmented_data, augmented_targets, noise_labels = [], [], []\n",
    "\n",
    "for level in noise_levels:\n",
    "    noisy_data = full_data.clone()\n",
    "    if level > 0:\n",
    "        N, H, W = noisy_data.shape\n",
    "        total_pixels = H * W\n",
    "\n",
    "        num_noisy = int(level * total_pixels)\n",
    "\n",
    "        for i in range(N):\n",
    "            coords = torch.randperm(total_pixels)[:num_noisy]\n",
    "            salt_or_pepper = torch.randint(0, 2, (num_noisy,), dtype=torch.float32)  # 0 or 1\n",
    "            flat_image = noisy_data[i].view(-1)\n",
    "            flat_image[coords] = salt_or_pepper\n",
    "\n",
    "    augmented_data.append(noisy_data)\n",
    "    augmented_targets.append(full_targets)\n",
    "    noise_labels.append(torch.full_like(full_targets, fill_value=level))\n",
    "\n",
    "augmented_data = torch.cat(augmented_data, dim=0).unsqueeze(1)\n",
    "augmented_targets = torch.cat(augmented_targets, dim=0)\n",
    "noise_labels = torch.cat(noise_labels, dim=0)\n",
    "\n",
    "N_train = len(base_train)\n",
    "N_test = len(base_test)\n",
    "samples_per_level = N_train + N_test\n",
    "\n",
    "X_train_list, y_train_list = [], []\n",
    "X_test_list, y_test_list = [], []\n",
    "\n",
    "for i in range(len(noise_levels)):\n",
    "    start = i * samples_per_level\n",
    "    end = start + samples_per_level\n",
    "\n",
    "    X_level = augmented_data[start:end]\n",
    "    y_level = augmented_targets[start:end]\n",
    "\n",
    "    X_train_list.append(X_level[:N_train])\n",
    "    y_train_list.append(y_level[:N_train])\n",
    "    X_test_list.append(X_level[N_train:])\n",
    "    y_test_list.append(y_level[N_train:])\n",
    "\n",
    "X_train = torch.cat(X_train_list, dim=0)\n",
    "y_train = torch.cat(y_train_list, dim=0)\n",
    "X_test = torch.cat(X_test_list, dim=0)\n",
    "y_test = torch.cat(y_test_list, dim=0)\n",
    "\n",
    "print(f\"X_train: {X_train.shape}, y_train: {y_train.shape}\")\n",
    "print(f\"X_test: {X_test.shape}, y_test: {y_test.shape}\")\n",
    "\n",
    "noise_levels_train_list = []\n",
    "\n",
    "for i, level in enumerate(noise_levels):\n",
    "    noise_level_tensor = torch.full((N_train,), fill_value=i)\n",
    "    noise_levels_train_list.append(noise_level_tensor)\n",
    "\n",
    "noise_levels_train = torch.cat(noise_levels_train_list, dim=0)\n",
    "print(f\"noise_levels_train shape: {noise_levels_train.shape}\")\n"
   ]
  },
  {
   "cell_type": "markdown",
   "metadata": {},
   "source": [
    "## Analysis"
   ]
  },
  {
   "cell_type": "markdown",
   "metadata": {},
   "source": [
    "### (0) Base Case"
   ]
  },
  {
   "cell_type": "code",
   "execution_count": 43,
   "metadata": {},
   "outputs": [
    {
     "name": "stdout",
     "output_type": "stream",
     "text": [
      "Epoch 1/1 - Train Loss: 0.1415, Train Acc: 0.9553\n",
      "Test Accuracy: 0.9775\n"
     ]
    }
   ],
   "source": [
    "# DataLoaders\n",
    "batch_size = 64\n",
    "train_dataset = TensorDataset(X_train, y_train)\n",
    "test_dataset = TensorDataset(X_test, y_test)\n",
    "train_loader = DataLoader(train_dataset, batch_size=batch_size, shuffle=True)  # random sampling baseline\n",
    "test_loader = DataLoader(test_dataset, batch_size=batch_size, shuffle=False)\n",
    "\n",
    "# Training setup\n",
    "device = torch.device(\"mps\" if torch.backends.mps.is_available() else \"cpu\")\n",
    "model = SmallCNN().to(device)\n",
    "criterion = nn.CrossEntropyLoss()\n",
    "optimizer = torch.optim.Adam(model.parameters(), lr=0.001)\n",
    "\n",
    "# Training loop\n",
    "epochs = 1\n",
    "for epoch in range(epochs):\n",
    "    model.train()\n",
    "    total_loss, total_correct = 0, 0\n",
    "\n",
    "    for images, labels in train_loader:\n",
    "        images, labels = images.to(device), labels.to(device)\n",
    "        optimizer.zero_grad()\n",
    "        outputs = model(images)\n",
    "        loss = criterion(outputs, labels)\n",
    "        loss.backward()\n",
    "        optimizer.step()\n",
    "\n",
    "        total_loss += loss.item() * labels.size(0)\n",
    "        total_correct += (outputs.argmax(1) == labels).sum().item()\n",
    "\n",
    "    train_acc = total_correct / len(train_dataset)\n",
    "    print(f\"Epoch {epoch+1}/{epochs} - Train Loss: {total_loss/len(train_dataset):.4f}, Train Acc: {train_acc:.4f}\")\n",
    "\n",
    "# Evaluate\n",
    "model.eval()\n",
    "correct = 0\n",
    "with torch.no_grad():\n",
    "    for images, labels in test_loader:\n",
    "        images, labels = images.to(device), labels.to(device)\n",
    "        outputs = model(images)\n",
    "        correct += (outputs.argmax(1) == labels).sum().item()\n",
    "test_acc = correct / len(test_dataset)\n",
    "print(f\"Test Accuracy: {test_acc:.4f}\")"
   ]
  },
  {
   "cell_type": "markdown",
   "metadata": {},
   "source": [
    "### (1) Curriculum Learning"
   ]
  },
  {
   "cell_type": "markdown",
   "metadata": {},
   "source": [
    "#### (1.1) Cumulative Curriculum Learning"
   ]
  },
  {
   "cell_type": "code",
   "execution_count": 44,
   "metadata": {},
   "outputs": [
    {
     "name": "stdout",
     "output_type": "stream",
     "text": [
      "\n",
      "Stage 1/5: Using noise levels <= 0\n",
      "  Epoch 1/1 - Loss: 0.1844, Acc: 0.9430\n",
      "\n",
      "Stage 2/5: Using noise levels <= 1\n",
      "  Epoch 1/1 - Loss: 0.0578, Acc: 0.9820\n",
      "\n",
      "Stage 3/5: Using noise levels <= 2\n",
      "  Epoch 1/1 - Loss: 0.0405, Acc: 0.9868\n",
      "\n",
      "Stage 4/5: Using noise levels <= 3\n",
      "  Epoch 1/1 - Loss: 0.0407, Acc: 0.9864\n",
      "\n",
      "Stage 5/5: Using noise levels <= 4\n",
      "  Epoch 1/1 - Loss: 0.0492, Acc: 0.9837\n",
      "\n",
      "Final Test Accuracy: 0.9804\n"
     ]
    }
   ],
   "source": [
    "stage_accs = []\n",
    "max_noise_levels = []\n",
    "num_examples = []\n",
    "\n",
    "device = torch.device(\"mps\" if torch.backends.mps.is_available() else \"cpu\")\n",
    "model = SmallCNN().to(device)\n",
    "criterion = torch.nn.CrossEntropyLoss()\n",
    "optimizer = torch.optim.Adam(model.parameters(), lr=0.001)\n",
    "\n",
    "# Hyperparameters\n",
    "batch_size = 64\n",
    "epochs_per_stage = 1  # can increase to 2–3 if needed\n",
    "num_stages = 5\n",
    "\n",
    "for stage in range(num_stages):\n",
    "    print(f\"\\nStage {stage+1}/{num_stages}: Using noise levels <= {stage}\")\n",
    "    \n",
    "    # Select training data up to current noise level\n",
    "    stage_mask = noise_levels_train <= stage\n",
    "    X_stage = X_train[stage_mask]\n",
    "    y_stage = y_train[stage_mask]\n",
    "\n",
    "    train_dataset = TensorDataset(X_stage, y_stage)\n",
    "    train_loader = DataLoader(train_dataset, batch_size=batch_size, shuffle=True)\n",
    "\n",
    "    # Training loop for this stage\n",
    "    for epoch in range(epochs_per_stage):\n",
    "        model.train()\n",
    "        total_loss, total_correct = 0, 0\n",
    "\n",
    "        for images, labels in train_loader:\n",
    "            images, labels = images.to(device), labels.to(device)\n",
    "            optimizer.zero_grad()\n",
    "            outputs = model(images)\n",
    "            loss = criterion(outputs, labels)\n",
    "            loss.backward()\n",
    "            optimizer.step()\n",
    "\n",
    "            total_loss += loss.item() * labels.size(0)\n",
    "            total_correct += (outputs.argmax(1) == labels).sum().item()\n",
    "\n",
    "        acc = total_correct / len(train_dataset)\n",
    "        print(f\"  Epoch {epoch+1}/{epochs_per_stage} - Loss: {total_loss/len(train_dataset):.4f}, Acc: {acc:.4f}\")\n",
    "\n",
    "        stage_accs.append(acc)\n",
    "        max_noise_levels.append(stage)\n",
    "        num_examples.append(len(train_dataset))\n",
    "\n",
    "# Final test accuracy\n",
    "test_dataset = TensorDataset(X_test, y_test)\n",
    "test_loader = DataLoader(test_dataset, batch_size=batch_size)\n",
    "\n",
    "model.eval()\n",
    "total_correct = 0\n",
    "with torch.no_grad():\n",
    "    for images, labels in test_loader:\n",
    "        images, labels = images.to(device), labels.to(device)\n",
    "        outputs = model(images)\n",
    "        total_correct += (outputs.argmax(1) == labels).sum().item()\n",
    "\n",
    "test_acc = total_correct / len(test_dataset)\n",
    "print(f\"\\nFinal Test Accuracy: {test_acc:.4f}\")"
   ]
  },
  {
   "cell_type": "code",
   "execution_count": null,
   "metadata": {},
   "outputs": [],
   "source": [
    "plt.figure(figsize=(8,5))\n",
    "plt.plot(max_noise_levels, stage_accs, marker='o')\n",
    "plt.title(\"MNIST with Impulse noise - Cumulative curriculum learning : Accuracy vs noise level maximum\")\n",
    "plt.xlabel(\"Noise level maximum\")\n",
    "plt.ylabel(\"Train accuracy\")\n",
    "plt.xticks(max_noise_levels)\n",
    "plt.grid(True)\n",
    "plt.show()"
   ]
  },
  {
   "cell_type": "code",
   "execution_count": null,
   "metadata": {},
   "outputs": [],
   "source": [
    "plt.figure(figsize=(8,5))\n",
    "plt.plot(num_examples, stage_accs, marker='o')\n",
    "plt.title(\"MNIST with Impulse noise - Cumulative curriculum learning : Accuracy vs number of training data\")\n",
    "plt.xlabel(\"Number of training data used\")\n",
    "plt.ylabel(\"Train accuracy\")\n",
    "plt.grid(True)\n",
    "plt.show()"
   ]
  },
  {
   "cell_type": "markdown",
   "metadata": {},
   "source": [
    "#### (1.2) Strict Curriculum Learning"
   ]
  },
  {
   "cell_type": "code",
   "execution_count": 45,
   "metadata": {},
   "outputs": [
    {
     "name": "stdout",
     "output_type": "stream",
     "text": [
      "\n",
      "Stage 1/5: Using noise level 0\n",
      "  Epoch 1/1 - Loss: 0.1750, Acc: 0.9460\n",
      "\n",
      "Stage 2/5: Using noise level 1\n",
      "  Epoch 1/1 - Loss: 0.0740, Acc: 0.9769\n",
      "\n",
      "Stage 3/5: Using noise level 2\n",
      "  Epoch 1/1 - Loss: 0.0745, Acc: 0.9772\n",
      "\n",
      "Stage 4/5: Using noise level 3\n",
      "  Epoch 1/1 - Loss: 0.1004, Acc: 0.9667\n",
      "\n",
      "Stage 5/5: Using noise level 4\n",
      "  Epoch 1/1 - Loss: 0.1533, Acc: 0.9495\n",
      "\n",
      "Final Test Accuracy: 0.9735\n"
     ]
    }
   ],
   "source": [
    "stage_accs = []\n",
    "noise_levels = []\n",
    "num_examples = []\n",
    "\n",
    "device = torch.device(\"mps\" if torch.backends.mps.is_available() else \"cpu\")\n",
    "model = SmallCNN().to(device)\n",
    "criterion = torch.nn.CrossEntropyLoss()\n",
    "optimizer = torch.optim.Adam(model.parameters(), lr=0.001)\n",
    "\n",
    "# Hyperparameters\n",
    "batch_size = 64\n",
    "epochs_per_stage = 1  # can increase to 2–3 if needed\n",
    "num_stages = 5\n",
    "\n",
    "for stage in range(num_stages):\n",
    "    print(f\"\\nStage {stage+1}/{num_stages}: Using noise level {stage}\")\n",
    "    \n",
    "    # Select training data up to current noise level\n",
    "    stage_mask = noise_levels_train == stage\n",
    "    X_stage = X_train[stage_mask]\n",
    "    y_stage = y_train[stage_mask]\n",
    "\n",
    "    train_dataset = TensorDataset(X_stage, y_stage)\n",
    "    train_loader = DataLoader(train_dataset, batch_size=batch_size, shuffle=True)\n",
    "\n",
    "    # Training loop for this stage\n",
    "    for epoch in range(epochs_per_stage):\n",
    "        model.train()\n",
    "        total_loss, total_correct = 0, 0\n",
    "\n",
    "        for images, labels in train_loader:\n",
    "            images, labels = images.to(device), labels.to(device)\n",
    "            optimizer.zero_grad()\n",
    "            outputs = model(images)\n",
    "            loss = criterion(outputs, labels)\n",
    "            loss.backward()\n",
    "            optimizer.step()\n",
    "\n",
    "            total_loss += loss.item() * labels.size(0)\n",
    "            total_correct += (outputs.argmax(1) == labels).sum().item()\n",
    "\n",
    "        acc = total_correct / len(train_dataset)\n",
    "        print(f\"  Epoch {epoch+1}/{epochs_per_stage} - Loss: {total_loss/len(train_dataset):.4f}, Acc: {acc:.4f}\")\n",
    "\n",
    "        stage_accs.append(acc)\n",
    "        noise_levels.append(stage)\n",
    "        num_examples.append(len(train_dataset))\n",
    "\n",
    "# Final test accuracy\n",
    "test_dataset = TensorDataset(X_test, y_test)\n",
    "test_loader = DataLoader(test_dataset, batch_size=batch_size)\n",
    "\n",
    "model.eval()\n",
    "total_correct = 0\n",
    "with torch.no_grad():\n",
    "    for images, labels in test_loader:\n",
    "        images, labels = images.to(device), labels.to(device)\n",
    "        outputs = model(images)\n",
    "        total_correct += (outputs.argmax(1) == labels).sum().item()\n",
    "\n",
    "test_acc = total_correct / len(test_dataset)\n",
    "print(f\"\\nFinal Test Accuracy: {test_acc:.4f}\")"
   ]
  },
  {
   "cell_type": "code",
   "execution_count": null,
   "metadata": {},
   "outputs": [],
   "source": [
    "plt.figure(figsize=(8,5))\n",
    "plt.plot(noise_levels, stage_accs, marker='o')\n",
    "plt.title(\"MNIST with Impulse noise - Strict curriculum learning : Accuracy vs noise level\")\n",
    "plt.xlabel(\"Noise level\")\n",
    "plt.ylabel(\"Train accuracy\")\n",
    "plt.xticks(noise_levels)\n",
    "plt.grid(True)\n",
    "plt.show()"
   ]
  },
  {
   "cell_type": "code",
   "execution_count": null,
   "metadata": {},
   "outputs": [],
   "source": [
    "plt.figure(figsize=(8,5))\n",
    "plt.bar(noise_levels, num_examples)\n",
    "plt.title(\"MNIST with Impulse noise - Strict curriculum learning : Number of examples vs noise level\")\n",
    "plt.xlabel(\"Noise level\")\n",
    "plt.ylabel(\"Number of examples\")\n",
    "plt.xticks(noise_levels)\n",
    "plt.grid(True, axis='y')\n",
    "plt.show()"
   ]
  },
  {
   "cell_type": "markdown",
   "metadata": {},
   "source": [
    "### (2) Self-Paced Learning"
   ]
  },
  {
   "cell_type": "markdown",
   "metadata": {},
   "source": [
    "We will use the same X_train, X_test, y_train and y_test computed in the curriculum learning phase.\n",
    "To implement the SPL we will introduce a difficulty threshold to let the model choose how many samples of this difficulty it is ready to handle.\n",
    "\n",
    "Because our objective is to see the influence of order on the training, we will stop training once the model saw the entire dataset. To be fair with the other techniques where they see the data only once."
   ]
  },
  {
   "cell_type": "code",
   "execution_count": 46,
   "metadata": {},
   "outputs": [
    {
     "name": "stdout",
     "output_type": "stream",
     "text": [
      "tensor(2.1341)\n",
      "tensor(2.4545)\n",
      "Epoch 1: lambda=2.250, selected 77360/300000 samples\n",
      "  Training Loss: 0.1104, Accuracy: 0.9580\n",
      "tensor(-0.)\n",
      "tensor(40.0768)\n",
      "Epoch 2: lambda=4.250, selected 88458/300000 samples\n",
      "  Training Loss: 0.0350, Accuracy: 0.9869\n",
      "tensor(-0.)\n",
      "tensor(48.8323)\n",
      "Epoch 3: lambda=6.250, selected 109196/300000 samples\n",
      "  Training Loss: 0.0309, Accuracy: 0.9894\n",
      "tensor(-0.)\n",
      "tensor(56.6784)\n",
      "Epoch 4: lambda=8.250, selected 132922/300000 samples\n",
      "  Training Loss: 0.0405, Accuracy: 0.9865\n",
      "tensor(-0.)\n",
      "tensor(54.3625)\n",
      "Epoch 5: lambda=10.250, selected 237806/300000 samples\n",
      "  Training Loss: 0.0494, Accuracy: 0.9838\n",
      "tensor(-0.)\n",
      "tensor(29.1262)\n",
      "Epoch 6: lambda=12.250, selected 297051/300000 samples\n",
      "  Training Loss: 0.0487, Accuracy: 0.9840\n"
     ]
    },
    {
     "ename": "KeyboardInterrupt",
     "evalue": "",
     "output_type": "error",
     "traceback": [
      "\u001b[0;31m---------------------------------------------------------------------------\u001b[0m",
      "\u001b[0;31mKeyboardInterrupt\u001b[0m                         Traceback (most recent call last)",
      "Input \u001b[0;32mIn [46]\u001b[0m, in \u001b[0;36m<cell line: 15>\u001b[0;34m()\u001b[0m\n\u001b[1;32m     21\u001b[0m \u001b[38;5;28;01mfor\u001b[39;00m images, labels \u001b[38;5;129;01min\u001b[39;00m full_train_loader:\n\u001b[1;32m     22\u001b[0m     images, labels \u001b[38;5;241m=\u001b[39m images\u001b[38;5;241m.\u001b[39mto(device), labels\u001b[38;5;241m.\u001b[39mto(device)\n\u001b[0;32m---> 23\u001b[0m     outputs \u001b[38;5;241m=\u001b[39m \u001b[43mmodel\u001b[49m\u001b[43m(\u001b[49m\u001b[43mimages\u001b[49m\u001b[43m)\u001b[49m\n\u001b[1;32m     24\u001b[0m     losses \u001b[38;5;241m=\u001b[39m criterion(outputs, labels)  \u001b[38;5;66;03m# shape: (batch_size,)\u001b[39;00m\n\u001b[1;32m     25\u001b[0m     all_losses\u001b[38;5;241m.\u001b[39mappend(losses\u001b[38;5;241m.\u001b[39mcpu())\n",
      "File \u001b[0;32m~/miniconda3/lib/python3.9/site-packages/torch/nn/modules/module.py:1736\u001b[0m, in \u001b[0;36mModule._wrapped_call_impl\u001b[0;34m(self, *args, **kwargs)\u001b[0m\n\u001b[1;32m   1734\u001b[0m     \u001b[38;5;28;01mreturn\u001b[39;00m \u001b[38;5;28mself\u001b[39m\u001b[38;5;241m.\u001b[39m_compiled_call_impl(\u001b[38;5;241m*\u001b[39margs, \u001b[38;5;241m*\u001b[39m\u001b[38;5;241m*\u001b[39mkwargs)  \u001b[38;5;66;03m# type: ignore[misc]\u001b[39;00m\n\u001b[1;32m   1735\u001b[0m \u001b[38;5;28;01melse\u001b[39;00m:\n\u001b[0;32m-> 1736\u001b[0m     \u001b[38;5;28;01mreturn\u001b[39;00m \u001b[38;5;28;43mself\u001b[39;49m\u001b[38;5;241;43m.\u001b[39;49m\u001b[43m_call_impl\u001b[49m\u001b[43m(\u001b[49m\u001b[38;5;241;43m*\u001b[39;49m\u001b[43margs\u001b[49m\u001b[43m,\u001b[49m\u001b[43m \u001b[49m\u001b[38;5;241;43m*\u001b[39;49m\u001b[38;5;241;43m*\u001b[39;49m\u001b[43mkwargs\u001b[49m\u001b[43m)\u001b[49m\n",
      "File \u001b[0;32m~/miniconda3/lib/python3.9/site-packages/torch/nn/modules/module.py:1747\u001b[0m, in \u001b[0;36mModule._call_impl\u001b[0;34m(self, *args, **kwargs)\u001b[0m\n\u001b[1;32m   1742\u001b[0m \u001b[38;5;66;03m# If we don't have any hooks, we want to skip the rest of the logic in\u001b[39;00m\n\u001b[1;32m   1743\u001b[0m \u001b[38;5;66;03m# this function, and just call forward.\u001b[39;00m\n\u001b[1;32m   1744\u001b[0m \u001b[38;5;28;01mif\u001b[39;00m \u001b[38;5;129;01mnot\u001b[39;00m (\u001b[38;5;28mself\u001b[39m\u001b[38;5;241m.\u001b[39m_backward_hooks \u001b[38;5;129;01mor\u001b[39;00m \u001b[38;5;28mself\u001b[39m\u001b[38;5;241m.\u001b[39m_backward_pre_hooks \u001b[38;5;129;01mor\u001b[39;00m \u001b[38;5;28mself\u001b[39m\u001b[38;5;241m.\u001b[39m_forward_hooks \u001b[38;5;129;01mor\u001b[39;00m \u001b[38;5;28mself\u001b[39m\u001b[38;5;241m.\u001b[39m_forward_pre_hooks\n\u001b[1;32m   1745\u001b[0m         \u001b[38;5;129;01mor\u001b[39;00m _global_backward_pre_hooks \u001b[38;5;129;01mor\u001b[39;00m _global_backward_hooks\n\u001b[1;32m   1746\u001b[0m         \u001b[38;5;129;01mor\u001b[39;00m _global_forward_hooks \u001b[38;5;129;01mor\u001b[39;00m _global_forward_pre_hooks):\n\u001b[0;32m-> 1747\u001b[0m     \u001b[38;5;28;01mreturn\u001b[39;00m \u001b[43mforward_call\u001b[49m\u001b[43m(\u001b[49m\u001b[38;5;241;43m*\u001b[39;49m\u001b[43margs\u001b[49m\u001b[43m,\u001b[49m\u001b[43m \u001b[49m\u001b[38;5;241;43m*\u001b[39;49m\u001b[38;5;241;43m*\u001b[39;49m\u001b[43mkwargs\u001b[49m\u001b[43m)\u001b[49m\n\u001b[1;32m   1749\u001b[0m result \u001b[38;5;241m=\u001b[39m \u001b[38;5;28;01mNone\u001b[39;00m\n\u001b[1;32m   1750\u001b[0m called_always_called_hooks \u001b[38;5;241m=\u001b[39m \u001b[38;5;28mset\u001b[39m()\n",
      "Input \u001b[0;32mIn [5]\u001b[0m, in \u001b[0;36mSmallCNN.forward\u001b[0;34m(self, x)\u001b[0m\n\u001b[1;32m     16\u001b[0m \u001b[38;5;28;01mdef\u001b[39;00m \u001b[38;5;21mforward\u001b[39m(\u001b[38;5;28mself\u001b[39m, x):\n\u001b[0;32m---> 17\u001b[0m     x \u001b[38;5;241m=\u001b[39m \u001b[38;5;28;43mself\u001b[39;49m\u001b[38;5;241;43m.\u001b[39;49m\u001b[43mfeatures\u001b[49m\u001b[43m(\u001b[49m\u001b[43mx\u001b[49m\u001b[43m)\u001b[49m\n\u001b[1;32m     18\u001b[0m     x \u001b[38;5;241m=\u001b[39m \u001b[38;5;28mself\u001b[39m\u001b[38;5;241m.\u001b[39mclassifier(x)\n\u001b[1;32m     19\u001b[0m     \u001b[38;5;28;01mreturn\u001b[39;00m x\n",
      "File \u001b[0;32m~/miniconda3/lib/python3.9/site-packages/torch/nn/modules/module.py:1736\u001b[0m, in \u001b[0;36mModule._wrapped_call_impl\u001b[0;34m(self, *args, **kwargs)\u001b[0m\n\u001b[1;32m   1734\u001b[0m     \u001b[38;5;28;01mreturn\u001b[39;00m \u001b[38;5;28mself\u001b[39m\u001b[38;5;241m.\u001b[39m_compiled_call_impl(\u001b[38;5;241m*\u001b[39margs, \u001b[38;5;241m*\u001b[39m\u001b[38;5;241m*\u001b[39mkwargs)  \u001b[38;5;66;03m# type: ignore[misc]\u001b[39;00m\n\u001b[1;32m   1735\u001b[0m \u001b[38;5;28;01melse\u001b[39;00m:\n\u001b[0;32m-> 1736\u001b[0m     \u001b[38;5;28;01mreturn\u001b[39;00m \u001b[38;5;28;43mself\u001b[39;49m\u001b[38;5;241;43m.\u001b[39;49m\u001b[43m_call_impl\u001b[49m\u001b[43m(\u001b[49m\u001b[38;5;241;43m*\u001b[39;49m\u001b[43margs\u001b[49m\u001b[43m,\u001b[49m\u001b[43m \u001b[49m\u001b[38;5;241;43m*\u001b[39;49m\u001b[38;5;241;43m*\u001b[39;49m\u001b[43mkwargs\u001b[49m\u001b[43m)\u001b[49m\n",
      "File \u001b[0;32m~/miniconda3/lib/python3.9/site-packages/torch/nn/modules/module.py:1747\u001b[0m, in \u001b[0;36mModule._call_impl\u001b[0;34m(self, *args, **kwargs)\u001b[0m\n\u001b[1;32m   1742\u001b[0m \u001b[38;5;66;03m# If we don't have any hooks, we want to skip the rest of the logic in\u001b[39;00m\n\u001b[1;32m   1743\u001b[0m \u001b[38;5;66;03m# this function, and just call forward.\u001b[39;00m\n\u001b[1;32m   1744\u001b[0m \u001b[38;5;28;01mif\u001b[39;00m \u001b[38;5;129;01mnot\u001b[39;00m (\u001b[38;5;28mself\u001b[39m\u001b[38;5;241m.\u001b[39m_backward_hooks \u001b[38;5;129;01mor\u001b[39;00m \u001b[38;5;28mself\u001b[39m\u001b[38;5;241m.\u001b[39m_backward_pre_hooks \u001b[38;5;129;01mor\u001b[39;00m \u001b[38;5;28mself\u001b[39m\u001b[38;5;241m.\u001b[39m_forward_hooks \u001b[38;5;129;01mor\u001b[39;00m \u001b[38;5;28mself\u001b[39m\u001b[38;5;241m.\u001b[39m_forward_pre_hooks\n\u001b[1;32m   1745\u001b[0m         \u001b[38;5;129;01mor\u001b[39;00m _global_backward_pre_hooks \u001b[38;5;129;01mor\u001b[39;00m _global_backward_hooks\n\u001b[1;32m   1746\u001b[0m         \u001b[38;5;129;01mor\u001b[39;00m _global_forward_hooks \u001b[38;5;129;01mor\u001b[39;00m _global_forward_pre_hooks):\n\u001b[0;32m-> 1747\u001b[0m     \u001b[38;5;28;01mreturn\u001b[39;00m \u001b[43mforward_call\u001b[49m\u001b[43m(\u001b[49m\u001b[38;5;241;43m*\u001b[39;49m\u001b[43margs\u001b[49m\u001b[43m,\u001b[49m\u001b[43m \u001b[49m\u001b[38;5;241;43m*\u001b[39;49m\u001b[38;5;241;43m*\u001b[39;49m\u001b[43mkwargs\u001b[49m\u001b[43m)\u001b[49m\n\u001b[1;32m   1749\u001b[0m result \u001b[38;5;241m=\u001b[39m \u001b[38;5;28;01mNone\u001b[39;00m\n\u001b[1;32m   1750\u001b[0m called_always_called_hooks \u001b[38;5;241m=\u001b[39m \u001b[38;5;28mset\u001b[39m()\n",
      "File \u001b[0;32m~/miniconda3/lib/python3.9/site-packages/torch/nn/modules/container.py:250\u001b[0m, in \u001b[0;36mSequential.forward\u001b[0;34m(self, input)\u001b[0m\n\u001b[1;32m    248\u001b[0m \u001b[38;5;28;01mdef\u001b[39;00m \u001b[38;5;21mforward\u001b[39m(\u001b[38;5;28mself\u001b[39m, \u001b[38;5;28minput\u001b[39m):\n\u001b[1;32m    249\u001b[0m     \u001b[38;5;28;01mfor\u001b[39;00m module \u001b[38;5;129;01min\u001b[39;00m \u001b[38;5;28mself\u001b[39m:\n\u001b[0;32m--> 250\u001b[0m         \u001b[38;5;28minput\u001b[39m \u001b[38;5;241m=\u001b[39m \u001b[43mmodule\u001b[49m\u001b[43m(\u001b[49m\u001b[38;5;28;43minput\u001b[39;49m\u001b[43m)\u001b[49m\n\u001b[1;32m    251\u001b[0m     \u001b[38;5;28;01mreturn\u001b[39;00m \u001b[38;5;28minput\u001b[39m\n",
      "File \u001b[0;32m~/miniconda3/lib/python3.9/site-packages/torch/nn/modules/module.py:1736\u001b[0m, in \u001b[0;36mModule._wrapped_call_impl\u001b[0;34m(self, *args, **kwargs)\u001b[0m\n\u001b[1;32m   1734\u001b[0m     \u001b[38;5;28;01mreturn\u001b[39;00m \u001b[38;5;28mself\u001b[39m\u001b[38;5;241m.\u001b[39m_compiled_call_impl(\u001b[38;5;241m*\u001b[39margs, \u001b[38;5;241m*\u001b[39m\u001b[38;5;241m*\u001b[39mkwargs)  \u001b[38;5;66;03m# type: ignore[misc]\u001b[39;00m\n\u001b[1;32m   1735\u001b[0m \u001b[38;5;28;01melse\u001b[39;00m:\n\u001b[0;32m-> 1736\u001b[0m     \u001b[38;5;28;01mreturn\u001b[39;00m \u001b[38;5;28;43mself\u001b[39;49m\u001b[38;5;241;43m.\u001b[39;49m\u001b[43m_call_impl\u001b[49m\u001b[43m(\u001b[49m\u001b[38;5;241;43m*\u001b[39;49m\u001b[43margs\u001b[49m\u001b[43m,\u001b[49m\u001b[43m \u001b[49m\u001b[38;5;241;43m*\u001b[39;49m\u001b[38;5;241;43m*\u001b[39;49m\u001b[43mkwargs\u001b[49m\u001b[43m)\u001b[49m\n",
      "File \u001b[0;32m~/miniconda3/lib/python3.9/site-packages/torch/nn/modules/module.py:1747\u001b[0m, in \u001b[0;36mModule._call_impl\u001b[0;34m(self, *args, **kwargs)\u001b[0m\n\u001b[1;32m   1742\u001b[0m \u001b[38;5;66;03m# If we don't have any hooks, we want to skip the rest of the logic in\u001b[39;00m\n\u001b[1;32m   1743\u001b[0m \u001b[38;5;66;03m# this function, and just call forward.\u001b[39;00m\n\u001b[1;32m   1744\u001b[0m \u001b[38;5;28;01mif\u001b[39;00m \u001b[38;5;129;01mnot\u001b[39;00m (\u001b[38;5;28mself\u001b[39m\u001b[38;5;241m.\u001b[39m_backward_hooks \u001b[38;5;129;01mor\u001b[39;00m \u001b[38;5;28mself\u001b[39m\u001b[38;5;241m.\u001b[39m_backward_pre_hooks \u001b[38;5;129;01mor\u001b[39;00m \u001b[38;5;28mself\u001b[39m\u001b[38;5;241m.\u001b[39m_forward_hooks \u001b[38;5;129;01mor\u001b[39;00m \u001b[38;5;28mself\u001b[39m\u001b[38;5;241m.\u001b[39m_forward_pre_hooks\n\u001b[1;32m   1745\u001b[0m         \u001b[38;5;129;01mor\u001b[39;00m _global_backward_pre_hooks \u001b[38;5;129;01mor\u001b[39;00m _global_backward_hooks\n\u001b[1;32m   1746\u001b[0m         \u001b[38;5;129;01mor\u001b[39;00m _global_forward_hooks \u001b[38;5;129;01mor\u001b[39;00m _global_forward_pre_hooks):\n\u001b[0;32m-> 1747\u001b[0m     \u001b[38;5;28;01mreturn\u001b[39;00m \u001b[43mforward_call\u001b[49m\u001b[43m(\u001b[49m\u001b[38;5;241;43m*\u001b[39;49m\u001b[43margs\u001b[49m\u001b[43m,\u001b[49m\u001b[43m \u001b[49m\u001b[38;5;241;43m*\u001b[39;49m\u001b[38;5;241;43m*\u001b[39;49m\u001b[43mkwargs\u001b[49m\u001b[43m)\u001b[49m\n\u001b[1;32m   1749\u001b[0m result \u001b[38;5;241m=\u001b[39m \u001b[38;5;28;01mNone\u001b[39;00m\n\u001b[1;32m   1750\u001b[0m called_always_called_hooks \u001b[38;5;241m=\u001b[39m \u001b[38;5;28mset\u001b[39m()\n",
      "File \u001b[0;32m~/miniconda3/lib/python3.9/site-packages/torch/nn/modules/conv.py:554\u001b[0m, in \u001b[0;36mConv2d.forward\u001b[0;34m(self, input)\u001b[0m\n\u001b[1;32m    553\u001b[0m \u001b[38;5;28;01mdef\u001b[39;00m \u001b[38;5;21mforward\u001b[39m(\u001b[38;5;28mself\u001b[39m, \u001b[38;5;28minput\u001b[39m: Tensor) \u001b[38;5;241m-\u001b[39m\u001b[38;5;241m>\u001b[39m Tensor:\n\u001b[0;32m--> 554\u001b[0m     \u001b[38;5;28;01mreturn\u001b[39;00m \u001b[38;5;28;43mself\u001b[39;49m\u001b[38;5;241;43m.\u001b[39;49m\u001b[43m_conv_forward\u001b[49m\u001b[43m(\u001b[49m\u001b[38;5;28;43minput\u001b[39;49m\u001b[43m,\u001b[49m\u001b[43m \u001b[49m\u001b[38;5;28;43mself\u001b[39;49m\u001b[38;5;241;43m.\u001b[39;49m\u001b[43mweight\u001b[49m\u001b[43m,\u001b[49m\u001b[43m \u001b[49m\u001b[38;5;28;43mself\u001b[39;49m\u001b[38;5;241;43m.\u001b[39;49m\u001b[43mbias\u001b[49m\u001b[43m)\u001b[49m\n",
      "File \u001b[0;32m~/miniconda3/lib/python3.9/site-packages/torch/nn/modules/conv.py:549\u001b[0m, in \u001b[0;36mConv2d._conv_forward\u001b[0;34m(self, input, weight, bias)\u001b[0m\n\u001b[1;32m    537\u001b[0m \u001b[38;5;28;01mif\u001b[39;00m \u001b[38;5;28mself\u001b[39m\u001b[38;5;241m.\u001b[39mpadding_mode \u001b[38;5;241m!=\u001b[39m \u001b[38;5;124m\"\u001b[39m\u001b[38;5;124mzeros\u001b[39m\u001b[38;5;124m\"\u001b[39m:\n\u001b[1;32m    538\u001b[0m     \u001b[38;5;28;01mreturn\u001b[39;00m F\u001b[38;5;241m.\u001b[39mconv2d(\n\u001b[1;32m    539\u001b[0m         F\u001b[38;5;241m.\u001b[39mpad(\n\u001b[1;32m    540\u001b[0m             \u001b[38;5;28minput\u001b[39m, \u001b[38;5;28mself\u001b[39m\u001b[38;5;241m.\u001b[39m_reversed_padding_repeated_twice, mode\u001b[38;5;241m=\u001b[39m\u001b[38;5;28mself\u001b[39m\u001b[38;5;241m.\u001b[39mpadding_mode\n\u001b[0;32m   (...)\u001b[0m\n\u001b[1;32m    547\u001b[0m         \u001b[38;5;28mself\u001b[39m\u001b[38;5;241m.\u001b[39mgroups,\n\u001b[1;32m    548\u001b[0m     )\n\u001b[0;32m--> 549\u001b[0m \u001b[38;5;28;01mreturn\u001b[39;00m \u001b[43mF\u001b[49m\u001b[38;5;241;43m.\u001b[39;49m\u001b[43mconv2d\u001b[49m\u001b[43m(\u001b[49m\n\u001b[1;32m    550\u001b[0m \u001b[43m    \u001b[49m\u001b[38;5;28;43minput\u001b[39;49m\u001b[43m,\u001b[49m\u001b[43m \u001b[49m\u001b[43mweight\u001b[49m\u001b[43m,\u001b[49m\u001b[43m \u001b[49m\u001b[43mbias\u001b[49m\u001b[43m,\u001b[49m\u001b[43m \u001b[49m\u001b[38;5;28;43mself\u001b[39;49m\u001b[38;5;241;43m.\u001b[39;49m\u001b[43mstride\u001b[49m\u001b[43m,\u001b[49m\u001b[43m \u001b[49m\u001b[38;5;28;43mself\u001b[39;49m\u001b[38;5;241;43m.\u001b[39;49m\u001b[43mpadding\u001b[49m\u001b[43m,\u001b[49m\u001b[43m \u001b[49m\u001b[38;5;28;43mself\u001b[39;49m\u001b[38;5;241;43m.\u001b[39;49m\u001b[43mdilation\u001b[49m\u001b[43m,\u001b[49m\u001b[43m \u001b[49m\u001b[38;5;28;43mself\u001b[39;49m\u001b[38;5;241;43m.\u001b[39;49m\u001b[43mgroups\u001b[49m\n\u001b[1;32m    551\u001b[0m \u001b[43m\u001b[49m\u001b[43m)\u001b[49m\n",
      "\u001b[0;31mKeyboardInterrupt\u001b[0m: "
     ]
    }
   ],
   "source": [
    "device = torch.device(\"mps\" if torch.backends.mps.is_available() else \"cpu\")\n",
    "model = SmallCNN().to(device)\n",
    "criterion = torch.nn.CrossEntropyLoss(reduction='none')  # Important: per-sample loss\n",
    "optimizer = torch.optim.Adam(model.parameters(), lr=0.001)\n",
    "\n",
    "batch_size = 64\n",
    "epochs = 10\n",
    "initial_lambda = 2.25  # initial difficulty threshold\n",
    "lambda_increment = 2  # increase per epoch\n",
    "\n",
    "# Wrap all training data in a dataset/loader for loss evaluation\n",
    "full_train_dataset = TensorDataset(X_train, y_train)\n",
    "full_train_loader = DataLoader(full_train_dataset, batch_size=batch_size, shuffle=False)\n",
    "\n",
    "for epoch in range(epochs):\n",
    "    model.eval()\n",
    "    all_losses = []\n",
    "\n",
    "    # Compute per-sample losses on the full training set\n",
    "    with torch.no_grad():\n",
    "        for images, labels in full_train_loader:\n",
    "            images, labels = images.to(device), labels.to(device)\n",
    "            outputs = model(images)\n",
    "            losses = criterion(outputs, labels)  # shape: (batch_size,)\n",
    "            all_losses.append(losses.cpu())\n",
    "\n",
    "    all_losses = torch.cat(all_losses)  # shape: (N,)\n",
    "    print(torch.min(all_losses))\n",
    "    print(torch.max(all_losses))\n",
    "\n",
    "    # Determine current lambda threshold\n",
    "    lambda_threshold = initial_lambda + epoch * lambda_increment\n",
    "\n",
    "    # Select indices where loss <= lambda_threshold\n",
    "    selected_indices = (all_losses <= lambda_threshold).nonzero(as_tuple=True)[0]\n",
    "\n",
    "    if len(selected_indices) == 0:\n",
    "        print(f\"Epoch {epoch+1}: No samples selected for training (lambda={lambda_threshold:.3f}), stopping early.\")\n",
    "        break\n",
    "\n",
    "    print(f\"Epoch {epoch+1}: lambda={lambda_threshold:.3f}, selected {len(selected_indices)}/{len(X_train)} samples\")\n",
    "\n",
    "    # Create subset dataset and loader for training\n",
    "    train_subset = TensorDataset(X_train[selected_indices], y_train[selected_indices])\n",
    "    train_loader = DataLoader(train_subset, batch_size=batch_size, shuffle=True)\n",
    "\n",
    "    # Train on selected samples\n",
    "    model.train()\n",
    "    total_loss, total_correct = 0, 0\n",
    "    for images, labels in train_loader:\n",
    "        images, labels = images.to(device), labels.to(device)\n",
    "        optimizer.zero_grad()\n",
    "        outputs = model(images)\n",
    "        loss = criterion(outputs, labels).mean()  # mean loss for batch\n",
    "        loss.backward()\n",
    "        optimizer.step()\n",
    "\n",
    "        total_loss += loss.item() * labels.size(0)\n",
    "        total_correct += (outputs.argmax(1) == labels).sum().item()\n",
    "\n",
    "    acc = total_correct / len(train_subset)\n",
    "    print(f\"  Training Loss: {total_loss/len(train_subset):.4f}, Accuracy: {acc:.4f}\")\n",
    "\n",
    "    if len(selected_indices) == len(X_train):\n",
    "        print(f\"  All samples were selected, stopping early.\")\n",
    "        break\n",
    "\n",
    "# Evaluate on test set after training\n",
    "test_dataset = TensorDataset(X_test, y_test)\n",
    "test_loader = DataLoader(test_dataset, batch_size=batch_size)\n",
    "\n",
    "model.eval()\n",
    "total_correct = 0\n",
    "with torch.no_grad():\n",
    "    for images, labels in test_loader:\n",
    "        images, labels = images.to(device), labels.to(device)\n",
    "        outputs = model(images)\n",
    "        total_correct += (outputs.argmax(1) == labels).sum().item()\n",
    "\n",
    "test_acc = total_correct / len(test_dataset)\n",
    "print(f\"\\nFinal Test Accuracy: {test_acc:.4f}\")\n"
   ]
  },
  {
   "cell_type": "markdown",
   "metadata": {},
   "source": [
    "An idea could be to combine the difficulty scores from the noise levels with the increments in SLP:\n",
    "\n",
    "\n",
    "**Option A: Use Noise Difficulty as a Prior or Weight for Lambda Threshold**\n",
    "\n",
    "- Adjust the SPL threshold (`λ`) for each sample by incorporating its noise difficulty:\n",
    "\n",
    "\\[\n",
    "\\lambda_i = \\lambda_{\\text{base}} + \\alpha \\times \\text{noise\\_level}_i\n",
    "\\]\n",
    "\n",
    "- Samples with higher noise difficulty require a higher loss to be included, effectively entering the curriculum later.\n",
    "\n",
    "**Option B: Use Noise Difficulty for Initial Sample Filtering**\n",
    "\n",
    "- Start SPL training using only samples with noise difficulty below a certain threshold (e.g., noise_level ≤ 0.2).\n",
    "- Gradually expand the training set to include samples with higher noise difficulty as training progresses.\n",
    "\n",
    "**Option C: Weighted Loss or Thresholding by Noise Difficulty Quantiles**\n",
    "\n",
    "- Group samples by their noise difficulty levels.\n",
    "- Compute separate SPL loss thresholds for each noise group.\n",
    "- Allow lower thresholds (easier inclusion) for low-noise groups and higher thresholds for high-noise groups.\n",
    "- This respects both the *a priori* noise difficulty and the *dynamic* training loss."
   ]
  },
  {
   "cell_type": "markdown",
   "metadata": {},
   "source": [
    "### (3) Hard-Example Mining"
   ]
  },
  {
   "cell_type": "code",
   "execution_count": 47,
   "metadata": {},
   "outputs": [
    {
     "name": "stdout",
     "output_type": "stream",
     "text": [
      "Selected 120000 hard examples out of 300000\n",
      "Epoch 1/5 - Loss: 0.3065, Accuracy: 0.9018\n",
      "Epoch 2/5 - Loss: 0.1296, Accuracy: 0.9576\n",
      "Epoch 3/5 - Loss: 0.0971, Accuracy: 0.9677\n",
      "Epoch 4/5 - Loss: 0.0778, Accuracy: 0.9739\n",
      "Epoch 5/5 - Loss: 0.0613, Accuracy: 0.9790\n",
      "\n",
      "Final Test Accuracy: 0.9785\n"
     ]
    }
   ],
   "source": [
    "train_accs = []\n",
    "epochs_list = []\n",
    "\n",
    "device = torch.device(\"mps\" if torch.backends.mps.is_available() else \"cpu\")\n",
    "model = SmallCNN().to(device)\n",
    "criterion = torch.nn.CrossEntropyLoss()\n",
    "optimizer = torch.optim.Adam(model.parameters(), lr=0.001)\n",
    "\n",
    "batch_size = 64\n",
    "epochs = 5\n",
    "\n",
    "# Define what \"hard\" means: top 1 or 2 noise levels (e.g., 0.3 and 0.4)\n",
    "# If noise_levels_train goes from 0 to 4 (for noise 0.0 to 0.4), we can take levels >= 3\n",
    "hard_mask = noise_levels_train >= 3\n",
    "\n",
    "# Select hard examples\n",
    "X_hard = X_train[hard_mask]\n",
    "y_hard = y_train[hard_mask]\n",
    "print(f\"Selected {len(X_hard)} hard examples out of {len(X_train)}\")\n",
    "\n",
    "# Wrap in dataset and loader\n",
    "hard_dataset = TensorDataset(X_hard, y_hard)\n",
    "hard_loader = DataLoader(hard_dataset, batch_size=batch_size, shuffle=True)\n",
    "\n",
    "# Training loop on hard examples\n",
    "for epoch in range(epochs):\n",
    "    model.train()\n",
    "    total_loss, total_correct = 0, 0\n",
    "\n",
    "    for images, labels in hard_loader:\n",
    "        images, labels = images.to(device), labels.to(device)\n",
    "        optimizer.zero_grad()\n",
    "        outputs = model(images)\n",
    "        loss = criterion(outputs, labels)\n",
    "        loss.backward()\n",
    "        optimizer.step()\n",
    "\n",
    "        total_loss += loss.item() * labels.size(0)\n",
    "        total_correct += (outputs.argmax(1) == labels).sum().item()\n",
    "\n",
    "    acc = total_correct / len(hard_dataset)\n",
    "    print(f\"Epoch {epoch+1}/{epochs} - Loss: {total_loss/len(hard_dataset):.4f}, Accuracy: {acc:.4f}\")\n",
    "\n",
    "    train_accs.append(acc)\n",
    "    epochs_list.append(epoch + 1)\n",
    "\n",
    "# Final test evaluation\n",
    "test_dataset = TensorDataset(X_test, y_test)\n",
    "test_loader = DataLoader(test_dataset, batch_size=batch_size)\n",
    "\n",
    "model.eval()\n",
    "total_correct = 0\n",
    "with torch.no_grad():\n",
    "    for images, labels in test_loader:\n",
    "        images, labels = images.to(device), labels.to(device)\n",
    "        outputs = model(images)\n",
    "        total_correct += (outputs.argmax(1) == labels).sum().item()\n",
    "\n",
    "test_acc = total_correct / len(test_dataset)\n",
    "print(f\"\\nFinal Test Accuracy: {test_acc:.4f}\")\n"
   ]
  },
  {
   "cell_type": "code",
   "execution_count": null,
   "metadata": {},
   "outputs": [],
   "source": [
    "plt.figure(figsize=(8,5))\n",
    "plt.plot(epochs_list, train_accs, marker='o')\n",
    "plt.title(\"MNIST with Impulse noise - Hard-Example Mining : Accuracy vs number of Epoch\")\n",
    "plt.xlabel(\"Epoch\")\n",
    "plt.ylabel(\"Train accuracy\")\n",
    "plt.ylim(0, 1)\n",
    "plt.grid(True)\n",
    "plt.show()"
   ]
  },
  {
   "cell_type": "markdown",
   "metadata": {},
   "source": [
    "### (4) Reverse Curriculum Learning"
   ]
  },
  {
   "cell_type": "markdown",
   "metadata": {},
   "source": [
    "#### (4.1) Cumulative Reverse Curriculum Learning"
   ]
  },
  {
   "cell_type": "code",
   "execution_count": null,
   "metadata": {},
   "outputs": [
    {
     "name": "stdout",
     "output_type": "stream",
     "text": [
      "\n",
      "Stage 5/5: Using noise levels >= 4\n",
      "  Epoch 1/1 - Loss: 0.5953, Acc: 0.8060\n",
      "\n",
      "Stage 4/5: Using noise levels >= 3\n",
      "  Epoch 1/1 - Loss: 0.2008, Acc: 0.9357\n",
      "\n",
      "Stage 3/5: Using noise levels >= 2\n",
      "  Epoch 1/1 - Loss: 0.1235, Acc: 0.9603\n",
      "\n",
      "Stage 2/5: Using noise levels >= 1\n",
      "  Epoch 1/1 - Loss: 0.0852, Acc: 0.9719\n",
      "\n",
      "Stage 1/5: Using noise levels >= 0\n",
      "  Epoch 1/1 - Loss: 0.0614, Acc: 0.9797\n",
      "\n",
      "Final Test Accuracy: 0.9734\n"
     ]
    }
   ],
   "source": [
    "stage_accs = []\n",
    "min_noise_levels = []\n",
    "num_examples = []\n",
    "\n",
    "device = torch.device(\"mps\" if torch.backends.mps.is_available() else \"cpu\")\n",
    "model = SmallCNN().to(device)\n",
    "criterion = torch.nn.CrossEntropyLoss()\n",
    "optimizer = torch.optim.Adam(model.parameters(), lr=0.001)\n",
    "\n",
    "# Hyperparameters\n",
    "batch_size = 64\n",
    "epochs_per_stage = 1  # can increase to 2–3 if needed\n",
    "num_stages = 5\n",
    "\n",
    "for stage in reversed(range(num_stages)):\n",
    "    print(f\"\\nStage {stage+1}/{num_stages}: Using noise levels >= {stage}\")\n",
    "    \n",
    "    # Select training data up to current noise level\n",
    "    stage_mask = noise_levels_train >= stage\n",
    "    X_stage = X_train[stage_mask]\n",
    "    y_stage = y_train[stage_mask]\n",
    "\n",
    "    train_dataset = TensorDataset(X_stage, y_stage)\n",
    "    train_loader = DataLoader(train_dataset, batch_size=batch_size, shuffle=True)\n",
    "\n",
    "    # Training loop for this stage\n",
    "    for epoch in range(epochs_per_stage):\n",
    "        model.train()\n",
    "        total_loss, total_correct = 0, 0\n",
    "\n",
    "        for images, labels in train_loader:\n",
    "            images, labels = images.to(device), labels.to(device)\n",
    "            optimizer.zero_grad()\n",
    "            outputs = model(images)\n",
    "            loss = criterion(outputs, labels)\n",
    "            loss.backward()\n",
    "            optimizer.step()\n",
    "\n",
    "            total_loss += loss.item() * labels.size(0)\n",
    "            total_correct += (outputs.argmax(1) == labels).sum().item()\n",
    "\n",
    "        acc = total_correct / len(train_dataset)\n",
    "        print(f\"  Epoch {epoch+1}/{epochs_per_stage} - Loss: {total_loss/len(train_dataset):.4f}, Acc: {acc:.4f}\")\n",
    "\n",
    "        stage_accs.append(acc)\n",
    "        min_noise_levels.append(stage)\n",
    "        num_examples.append(len(train_dataset))\n",
    "\n",
    "# Final test accuracy\n",
    "test_dataset = TensorDataset(X_test, y_test)\n",
    "test_loader = DataLoader(test_dataset, batch_size=batch_size)\n",
    "\n",
    "model.eval()\n",
    "total_correct = 0\n",
    "with torch.no_grad():\n",
    "    for images, labels in test_loader:\n",
    "        images, labels = images.to(device), labels.to(device)\n",
    "        outputs = model(images)\n",
    "        total_correct += (outputs.argmax(1) == labels).sum().item()\n",
    "\n",
    "test_acc = total_correct / len(test_dataset)\n",
    "print(f\"\\nFinal Test Accuracy: {test_acc:.4f}\")"
   ]
  },
  {
   "cell_type": "code",
   "execution_count": null,
   "metadata": {},
   "outputs": [],
   "source": [
    "plt.figure(figsize=(8,5))\n",
    "plt.plot(min_noise_levels, stage_accs, marker='o')\n",
    "plt.title(\"MNIST with Impulse noise - Cumulative reverse curriculum learning : Accuracy vs noise level minimum\")\n",
    "plt.xlabel(\"minimum noise level\")\n",
    "plt.ylabel(\"Train accuracy\")\n",
    "plt.xticks(min_noise_levels)\n",
    "plt.gca().invert_xaxis()  # pour afficher de hard (4) à easy (0)\n",
    "plt.grid(True)\n",
    "plt.show()"
   ]
  },
  {
   "cell_type": "markdown",
   "metadata": {},
   "source": [
    "#### (4.2) Strict Reverse Curriculum Learning"
   ]
  },
  {
   "cell_type": "code",
   "execution_count": null,
   "metadata": {},
   "outputs": [
    {
     "name": "stdout",
     "output_type": "stream",
     "text": [
      "\n",
      "Stage 5/5: Using noise level 4\n",
      "  Epoch 1/1 - Loss: 0.4560, Acc: 0.8542\n",
      "\n",
      "Stage 4/5: Using noise level 3\n",
      "  Epoch 1/1 - Loss: 0.1428, Acc: 0.9552\n",
      "\n",
      "Stage 3/5: Using noise level 2\n",
      "  Epoch 1/1 - Loss: 0.0800, Acc: 0.9749\n",
      "\n",
      "Stage 2/5: Using noise level 1\n",
      "  Epoch 1/1 - Loss: 0.0504, Acc: 0.9842\n",
      "\n",
      "Stage 1/5: Using noise level 0\n",
      "  Epoch 1/1 - Loss: 0.0343, Acc: 0.9892\n",
      "\n",
      "Final Test Accuracy: 0.9454\n"
     ]
    }
   ],
   "source": [
    "stage_accs = []\n",
    "noise_levels = []\n",
    "num_examples = []\n",
    "\n",
    "device = torch.device(\"mps\" if torch.backends.mps.is_available() else \"cpu\")\n",
    "model = SmallCNN().to(device)\n",
    "criterion = torch.nn.CrossEntropyLoss()\n",
    "optimizer = torch.optim.Adam(model.parameters(), lr=0.001)\n",
    "\n",
    "# Hyperparameters\n",
    "batch_size = 64\n",
    "epochs_per_stage = 1  # can increase to 2–3 if needed\n",
    "num_stages = 5\n",
    "\n",
    "for stage in reversed(range(num_stages)):\n",
    "    print(f\"\\nStage {stage+1}/{num_stages}: Using noise level {stage}\")\n",
    "    \n",
    "    # Select training data up to current noise level\n",
    "    stage_mask = noise_levels_train == stage\n",
    "    X_stage = X_train[stage_mask]\n",
    "    y_stage = y_train[stage_mask]\n",
    "\n",
    "    train_dataset = TensorDataset(X_stage, y_stage)\n",
    "    train_loader = DataLoader(train_dataset, batch_size=batch_size, shuffle=True)\n",
    "\n",
    "    # Training loop for this stage\n",
    "    for epoch in range(epochs_per_stage):\n",
    "        model.train()\n",
    "        total_loss, total_correct = 0, 0\n",
    "\n",
    "        for images, labels in train_loader:\n",
    "            images, labels = images.to(device), labels.to(device)\n",
    "            optimizer.zero_grad()\n",
    "            outputs = model(images)\n",
    "            loss = criterion(outputs, labels)\n",
    "            loss.backward()\n",
    "            optimizer.step()\n",
    "\n",
    "            total_loss += loss.item() * labels.size(0)\n",
    "            total_correct += (outputs.argmax(1) == labels).sum().item()\n",
    "\n",
    "        acc = total_correct / len(train_dataset)\n",
    "        print(f\"  Epoch {epoch+1}/{epochs_per_stage} - Loss: {total_loss/len(train_dataset):.4f}, Acc: {acc:.4f}\")\n",
    "\n",
    "        stage_accs.append(acc)\n",
    "        noise_levels.append(stage)\n",
    "        num_examples.append(len(train_dataset))\n",
    "\n",
    "\n",
    "# Final test accuracy\n",
    "test_dataset = TensorDataset(X_test, y_test)\n",
    "test_loader = DataLoader(test_dataset, batch_size=batch_size)\n",
    "\n",
    "model.eval()\n",
    "total_correct = 0\n",
    "with torch.no_grad():\n",
    "    for images, labels in test_loader:\n",
    "        images, labels = images.to(device), labels.to(device)\n",
    "        outputs = model(images)\n",
    "        total_correct += (outputs.argmax(1) == labels).sum().item()\n",
    "\n",
    "test_acc = total_correct / len(test_dataset)\n",
    "print(f\"\\nFinal Test Accuracy: {test_acc:.4f}\")"
   ]
  },
  {
   "cell_type": "code",
   "execution_count": null,
   "metadata": {},
   "outputs": [],
   "source": [
    "plt.figure(figsize=(8,5))\n",
    "plt.plot(noise_levels, stage_accs, marker='o')\n",
    "plt.title(\"MNIST with Impulse noise - Strict reverse curriculum learning : Accuracy vs noise level\")\n",
    "plt.xlabel(\"Noise level\")\n",
    "plt.ylabel(\"Train accuracy\")\n",
    "plt.xticks(noise_levels)\n",
    "plt.gca().invert_xaxis()  # Affiche 4,3,2,1,0 dans l'ordre hard→easy\n",
    "plt.grid(True)\n",
    "plt.show()"
   ]
  },
  {
   "cell_type": "markdown",
   "metadata": {},
   "source": [
    "### (5) Stratified Monte-Carlo Sampling"
   ]
  },
  {
   "cell_type": "code",
   "execution_count": null,
   "metadata": {},
   "outputs": [
    {
     "name": "stdout",
     "output_type": "stream",
     "text": [
      "\n",
      "Stage 1/5: Sampling from noise level = 0\n",
      "  Epoch 1/1 - Loss: 0.5492, Acc: 0.8339\n",
      "\n",
      "Stage 2/5: Sampling from noise level = 1\n",
      "  Epoch 1/1 - Loss: 0.1998, Acc: 0.9399\n",
      "\n",
      "Stage 3/5: Sampling from noise level = 2\n",
      "  Epoch 1/1 - Loss: 0.1732, Acc: 0.9461\n",
      "\n",
      "Stage 4/5: Sampling from noise level = 3\n",
      "  Epoch 1/1 - Loss: 0.1909, Acc: 0.9376\n",
      "\n",
      "Stage 5/5: Sampling from noise level = 4\n",
      "  Epoch 1/1 - Loss: 0.2607, Acc: 0.9171\n",
      "\n",
      "Final Test Accuracy: 0.9534\n"
     ]
    }
   ],
   "source": [
    "stage_accs = []\n",
    "noise_levels = []\n",
    "num_examples = []\n",
    "\n",
    "device = torch.device(\"mps\" if torch.backends.mps.is_available() else \"cpu\")\n",
    "model = SmallCNN().to(device)\n",
    "criterion = torch.nn.CrossEntropyLoss()\n",
    "optimizer = torch.optim.Adam(model.parameters(), lr=0.001)\n",
    "\n",
    "# Hyperparameters\n",
    "batch_size = 64\n",
    "epochs_per_stage = 1  # same as curriculum\n",
    "num_stages = 5        # noise levels 0–4\n",
    "samples_per_stage = 10000  # number of examples to sample from each difficulty level\n",
    "\n",
    "for stage in range(num_stages):\n",
    "    print(f\"\\nStage {stage+1}/{num_stages}: Sampling from noise level = {stage}\")\n",
    "    \n",
    "    # Select indices for current noise level\n",
    "    stage_mask = (noise_levels_train == stage).nonzero(as_tuple=True)[0]\n",
    "    \n",
    "    # Randomly sample without replacement\n",
    "    if len(stage_mask) < samples_per_stage:\n",
    "        print(f\"  Warning: only {len(stage_mask)} samples available, using all.\")\n",
    "        selected_indices = stage_mask\n",
    "    else:\n",
    "        selected_indices = stage_mask[torch.randperm(len(stage_mask))[:samples_per_stage]]\n",
    "    \n",
    "    # Prepare subset\n",
    "    X_stage = X_train[selected_indices]\n",
    "    y_stage = y_train[selected_indices]\n",
    "    train_dataset = TensorDataset(X_stage, y_stage)\n",
    "    train_loader = DataLoader(train_dataset, batch_size=batch_size, shuffle=True)\n",
    "\n",
    "    # Train loop for this stage\n",
    "    for epoch in range(epochs_per_stage):\n",
    "        model.train()\n",
    "        total_loss, total_correct = 0, 0\n",
    "\n",
    "        for images, labels in train_loader:\n",
    "            images, labels = images.to(device), labels.to(device)\n",
    "            optimizer.zero_grad()\n",
    "            outputs = model(images)\n",
    "            loss = criterion(outputs, labels)\n",
    "            loss.backward()\n",
    "            optimizer.step()\n",
    "\n",
    "            total_loss += loss.item() * labels.size(0)\n",
    "            total_correct += (outputs.argmax(1) == labels).sum().item()\n",
    "\n",
    "        acc = total_correct / len(train_dataset)\n",
    "        print(f\"  Epoch {epoch+1}/{epochs_per_stage} - Loss: {total_loss/len(train_dataset):.4f}, Acc: {acc:.4f}\")\n",
    "\n",
    "        stage_accs.append(acc)\n",
    "        noise_levels.append(stage)\n",
    "        num_examples.append(len(train_dataset))\n",
    "\n",
    "\n",
    "# Final test accuracy\n",
    "test_dataset = TensorDataset(X_test, y_test)\n",
    "test_loader = DataLoader(test_dataset, batch_size=batch_size)\n",
    "\n",
    "model.eval()\n",
    "total_correct = 0\n",
    "with torch.no_grad():\n",
    "    for images, labels in test_loader:\n",
    "        images, labels = images.to(device), labels.to(device)\n",
    "        outputs = model(images)\n",
    "        total_correct += (outputs.argmax(1) == labels).sum().item()\n",
    "\n",
    "test_acc = total_correct / len(test_dataset)\n",
    "print(f\"\\nFinal Test Accuracy: {test_acc:.4f}\")\n"
   ]
  },
  {
   "cell_type": "code",
   "execution_count": null,
   "metadata": {},
   "outputs": [],
   "source": [
    "plt.figure(figsize=(8,5))\n",
    "plt.plot(noise_levels, stage_accs, marker='o')\n",
    "plt.title(\"MNIST with Impulse noise - Stratified Monte-Carlo Sampling : Accuracy vs noise level\")\n",
    "plt.xlabel(\"Noise level\")\n",
    "plt.ylabel(\"Train accuracy\")\n",
    "plt.xticks(noise_levels)\n",
    "plt.grid(True)\n",
    "plt.show()"
   ]
  },
  {
   "cell_type": "code",
   "execution_count": null,
   "metadata": {},
   "outputs": [],
   "source": [
    "plt.figure(figsize=(8,5))\n",
    "plt.bar(noise_levels, num_examples)\n",
    "plt.title(\"MNIST with Impulse noise - Stratified Monte-Carlo Sampling : Number examples vs noise level\")\n",
    "plt.xlabel(\"Noise level\")\n",
    "plt.ylabel(\"Number of examples\")\n",
    "plt.xticks(noise_levels)\n",
    "plt.grid(True, axis='y')\n",
    "plt.show()"
   ]
  }
 ],
 "metadata": {
  "kernelspec": {
   "display_name": "ada",
   "language": "python",
   "name": "python3"
  },
  "language_info": {
   "codemirror_mode": {
    "name": "ipython",
    "version": 3
   },
   "file_extension": ".py",
   "mimetype": "text/x-python",
   "name": "python",
   "nbconvert_exporter": "python",
   "pygments_lexer": "ipython3",
   "version": "3.12.9"
  }
 },
 "nbformat": 4,
 "nbformat_minor": 2
}
