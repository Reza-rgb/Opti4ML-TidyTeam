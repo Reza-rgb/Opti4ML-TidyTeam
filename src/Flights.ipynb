{
 "cells": [
  {
   "cell_type": "code",
   "execution_count": 1,
   "metadata": {},
   "outputs": [],
   "source": [
    "import pandas as pd\n",
    "import numpy as np"
   ]
  },
  {
   "cell_type": "code",
   "execution_count": 2,
   "metadata": {},
   "outputs": [],
   "source": [
    "# initialisation\n",
    "df_flight = pd.read_csv(\"/Users/moi/Documents/EPFL/Opti4ML_projet/data/flight_data.csv\")\n",
    "df_flight = df_flight.drop(columns=['Passenger_ID', 'Airline', 'Departure_Airport', 'Flight_Duration_Minutes', 'Flight_Status', 'Distance_Miles', 'Price_USD', 'Age', 'Gender', 'Seat_Class', 'Bags_Checked', 'Frequent_Flyer_Status', 'Check_in_Method', 'Flight_Satisfaction_Score', 'Delay_Minutes', 'Booking_Days_In_Advance', 'No_Show', 'Weather_Impact', 'Seat_Selected', 'Booking_Lead_Time'])\n",
    "\n",
    "# As we solely focus on Family travels, we can filter out the \"Travel_Purpose\" column\n",
    "df_flight = df_flight[df_flight['Travel_Purpose'] == \"Family\"]\n",
    "df_flight = df_flight.drop(columns = \"Travel_Purpose\")"
   ]
  },
  {
   "cell_type": "code",
   "execution_count": 3,
   "metadata": {},
   "outputs": [],
   "source": [
    "# first we get rid of the time (hours and minutes) and convert the string into a timestamp\n",
    "df_flight['Departure_Time'] = df_flight['Departure_Time'].apply(lambda x : pd.to_datetime(x[:10]))"
   ]
  },
  {
   "cell_type": "code",
   "execution_count": 9,
   "metadata": {},
   "outputs": [],
   "source": [
    "# then we proceed to apply one-hot encoding\n",
    "df_flight['Day'] = df_flight['Departure_Time'].dt.day\n",
    "df_flight['Month'] = df_flight['Departure_Time'].dt.month\n",
    "df_flight['Year'] = df_flight['Departure_Time'].dt.year\n",
    "\n",
    "df_flight = pd.get_dummies(df_flight, columns=[\"Day\", \"Month\", \"Year\"], prefix=['Day', 'Month', 'Year'], dtype=int)"
   ]
  },
  {
   "cell_type": "code",
   "execution_count": 10,
   "metadata": {},
   "outputs": [
    {
     "data": {
      "text/plain": [
       "Index(['Flight_ID', 'Arrival_Airport', 'Departure_Time', 'Income_Level',\n",
       "       'Day_1', 'Day_2', 'Day_3', 'Day_4', 'Day_5', 'Day_6', 'Day_7', 'Day_8',\n",
       "       'Day_9', 'Day_10', 'Day_11', 'Day_12', 'Day_13', 'Day_14', 'Day_15',\n",
       "       'Day_16', 'Day_17', 'Day_18', 'Day_19', 'Day_20', 'Day_21', 'Day_22',\n",
       "       'Day_23', 'Day_24', 'Day_25', 'Day_26', 'Day_27', 'Day_28', 'Day_29',\n",
       "       'Day_30', 'Day_31', 'Month_1', 'Month_2', 'Month_3', 'Month_4',\n",
       "       'Month_5', 'Month_6', 'Month_7', 'Month_8', 'Month_9', 'Month_10',\n",
       "       'Month_11', 'Month_12', 'Year_2023', 'Year_2024', 'Year_2025'],\n",
       "      dtype='object')"
      ]
     },
     "execution_count": 10,
     "metadata": {},
     "output_type": "execute_result"
    }
   ],
   "source": [
    "df_flight.columns"
   ]
  },
  {
   "cell_type": "markdown",
   "metadata": {},
   "source": [
    "We can see that there are all 31 days, 12 months and 3 years."
   ]
  },
  {
   "cell_type": "code",
   "execution_count": 11,
   "metadata": {},
   "outputs": [
    {
     "data": {
      "text/plain": [
       "(2477, 50)"
      ]
     },
     "execution_count": 11,
     "metadata": {},
     "output_type": "execute_result"
    }
   ],
   "source": [
    "df_flight.shape"
   ]
  },
  {
   "cell_type": "code",
   "execution_count": null,
   "metadata": {},
   "outputs": [],
   "source": []
  }
 ],
 "metadata": {
  "kernelspec": {
   "display_name": "ada",
   "language": "python",
   "name": "python3"
  },
  "language_info": {
   "codemirror_mode": {
    "name": "ipython",
    "version": 3
   },
   "file_extension": ".py",
   "mimetype": "text/x-python",
   "name": "python",
   "nbconvert_exporter": "python",
   "pygments_lexer": "ipython3",
   "version": "3.11.8"
  }
 },
 "nbformat": 4,
 "nbformat_minor": 2
}
