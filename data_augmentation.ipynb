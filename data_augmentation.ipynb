{
 "cells": [
  {
   "cell_type": "markdown",
   "metadata": {},
   "source": [
    "<img src=\"data/mu.jpg\" alt=\"Data augmentation\" title=\"Data augmentation\" width=\"500\"/>\n"
   ]
  },
  {
   "cell_type": "markdown",
   "metadata": {},
   "source": [
    "## Import"
   ]
  },
  {
   "cell_type": "code",
   "execution_count": 3,
   "metadata": {},
   "outputs": [],
   "source": [
    "# Standard scientific Python imports\n",
    "import matplotlib.pyplot as plt\n",
    "import numpy as np\n",
    "import pandas as pd\n",
    "\n",
    "# Import datasets, classifiers and performance metrics\n",
    "from sklearn import datasets, metrics, svm\n",
    "from sklearn.model_selection import train_test_split\n",
    "from sklearn.datasets import make_classification\n",
    "from sklearn.linear_model import Perceptron\n",
    "from sklearn.utils import shuffle\n",
    "from sklearn.datasets import load_digits\n",
    "\n",
    "# Libraries for modifying data\n",
    "from scipy.ndimage import gaussian_filter\n",
    "from scipy.ndimage import rotate\n"
   ]
  },
  {
   "cell_type": "markdown",
   "metadata": {},
   "source": [
    "## Fonctions (gaussian noise, gaussian blur, rotate, brightness, impulse noise)"
   ]
  },
  {
   "cell_type": "code",
   "execution_count": 4,
   "metadata": {},
   "outputs": [],
   "source": [
    "def add_noise(images, noise_level=0.5):\n",
    "    \"\"\"\n",
    "    Adds Gaussian noise to images from the digits dataset.\n",
    "\n",
    "    Args:\n",
    "        images (np.ndarray): Array of shape (n_images, 8, 8) containing the images.\n",
    "        noise_level (float): Standard deviation of the added Gaussian noise (default is 0.5).\n",
    "\n",
    "    Returns:\n",
    "        np.ndarray: New noisy images with values between 0 and 16.\n",
    "    \"\"\"\n",
    "    noisy_images = images + noise_level * np.random.randn(*images.shape)\n",
    "    \n",
    "    # Clamp values to the [0, 16] range\n",
    "    noisy_images = np.clip(noisy_images, 0, 16)\n",
    "    \n",
    "    return noisy_images"
   ]
  },
  {
   "cell_type": "code",
   "execution_count": 5,
   "metadata": {},
   "outputs": [],
   "source": [
    "def add_blur(images, sigma=1.0):\n",
    "    \"\"\"\n",
    "    Applies Gaussian blur to the images.\n",
    "\n",
    "    Args:\n",
    "        images (np.ndarray): Array of shape (n_images, 8, 8).\n",
    "        sigma (float): Degree of blur (the larger the sigma, the blurrier the image).\n",
    "\n",
    "    Returns:\n",
    "        np.ndarray: Blurred images.\n",
    "    \"\"\"\n",
    "    blurred_images = np.array([gaussian_filter(img, sigma=sigma) for img in images])\n",
    "    return np.clip(blurred_images, 0, 16)"
   ]
  },
  {
   "cell_type": "code",
   "execution_count": 6,
   "metadata": {},
   "outputs": [],
   "source": [
    "def rotate_images(images, angle=15):\n",
    "    \"\"\"\n",
    "    Rotates each image in the array around its center.\n",
    "\n",
    "    Args:\n",
    "        images (np.ndarray): Array of images with shape (n_images, 8, 8).\n",
    "        angle (float): Rotation angle in degrees (positive = counterclockwise).\n",
    "\n",
    "    Returns:\n",
    "        np.ndarray: Rotated images, with the same shape as the original ones.\n",
    "    \"\"\"\n",
    "    rotated = np.array([rotate(img, angle=angle, reshape=False, mode='nearest') for img in images])\n",
    "    return np.clip(rotated, 0, 16)"
   ]
  },
  {
   "cell_type": "code",
   "execution_count": 7,
   "metadata": {},
   "outputs": [],
   "source": [
    "def adjust_brightness(images, factor=1.2):\n",
    "    \"\"\"\n",
    "    Adjusts the brightness of the images.\n",
    "\n",
    "    Args:\n",
    "        images (np.ndarray): Array of shape (n_images, 8, 8).\n",
    "        factor (float): Brightness factor (>1 increases brightness, <1 decreases it).\n",
    "\n",
    "    Returns:\n",
    "        np.ndarray: Images with adjusted brightness.\n",
    "    \"\"\"\n",
    "    bright_images = images * factor\n",
    "    return np.clip(bright_images, 0, 16)"
   ]
  },
  {
   "cell_type": "code",
   "execution_count": 8,
   "metadata": {},
   "outputs": [],
   "source": [
    "def add_impulse_noise(images, noise_ratio=0.05):\n",
    "    \"\"\"\n",
    "    Adds impulse noise (salt & pepper) to the images.\n",
    "\n",
    "    Args:\n",
    "        images (np.ndarray): Array of images (n_images, 8, 8).\n",
    "        noise_ratio (float): Proportion of pixels to corrupt (e.g., 0.05 = 5%).\n",
    "\n",
    "    Returns:\n",
    "        np.ndarray: Images with added impulse noise.\n",
    "    \"\"\"\n",
    "    noisy_images = images.copy()\n",
    "    n_images, h, w = images.shape\n",
    "    n_total_pixels = h * w\n",
    "\n",
    "    for idx in range(n_images):\n",
    "        image = noisy_images[idx]\n",
    "        n_noisy_pixels = int(noise_ratio * n_total_pixels)\n",
    "\n",
    "        # Random noise positions\n",
    "        coords = np.random.choice(n_total_pixels, n_noisy_pixels, replace=False)\n",
    "        for c in coords:\n",
    "            i, j = divmod(c, w)\n",
    "            image[i, j] = np.random.choice([0, 16])  # salt or pepper\n",
    "\n",
    "    return noisy_images"
   ]
  },
  {
   "cell_type": "markdown",
   "metadata": {},
   "source": [
    "## Visualisation"
   ]
  },
  {
   "cell_type": "code",
   "execution_count": 9,
   "metadata": {},
   "outputs": [],
   "source": [
    "def visualize_transform(images, transform, index=0, title = 'Transformed'):\n",
    "    \"\"\"\n",
    "    Visualizes the original and transformed images side by side.\n",
    "\n",
    "    Args:\n",
    "        images (np.ndarray): Array of shape (n_images, 8, 8).\n",
    "        transform (function): Transformation function to apply to the images.\n",
    "    \"\"\"\n",
    "    transformed_images = transform(images)\n",
    "\n",
    "\n",
    "    fig, axs = plt.subplots(1, 2)\n",
    "    axs[0].imshow(images[index], cmap='gray')\n",
    "    axs[0].set_title(\"Original\")\n",
    "    axs[1].imshow(transformed_images[index], cmap='gray')\n",
    "    axs[1].set_title(title)\n",
    "    for ax in axs:\n",
    "        ax.axis('off')\n",
    "    plt.tight_layout()\n",
    "    plt.show()"
   ]
  },
  {
   "cell_type": "code",
   "execution_count": 10,
   "metadata": {},
   "outputs": [
    {
     "data": {
      "image/png": "[encoded data removed]",
      "text/plain": [
       "<Figure size 640x480 with 2 Axes>"
      ]
     },
     "metadata": {},
     "output_type": "display_data"
    },
    {
     "data": {
      "image/png": "[encoded data removed]",
      "text/plain": [
       "<Figure size 640x480 with 2 Axes>"
      ]
     },
     "metadata": {},
     "output_type": "display_data"
    },
    {
     "data": {
      "image/png": "[encoded data removed]",
      "text/plain": [
       "<Figure size 640x480 with 2 Axes>"
      ]
     },
     "metadata": {},
     "output_type": "display_data"
    },
    {
     "data": {
      "image/png": "[encoded data removed]",
      "text/plain": [
       "<Figure size 640x480 with 2 Axes>"
      ]
     },
     "metadata": {},
     "output_type": "display_data"
    },
    {
     "data": {
      "image/png": "[encoded data removed]",
      "text/plain": [
       "<Figure size 640x480 with 2 Axes>"
      ]
     },
     "metadata": {},
     "output_type": "display_data"
    }
   ],
   "source": [
    "digits = load_digits()\n",
    "images = digits.images\n",
    "\n",
    "visualize_transform(images, lambda imgs : add_noise(imgs, noise_level=2.0), index=4, title='Gaussian Noise')\n",
    "visualize_transform(images, lambda imgs : add_blur(imgs, sigma=0.75), title='Gaussian Blur')\n",
    "visualize_transform(images, lambda imgs : rotate_images(imgs, angle=20), title= \"Rotation\")\n",
    "visualize_transform(images, lambda imgs : adjust_brightness(imgs, factor=1.5), title='Brightness Adjustment')\n",
    "visualize_transform(images, lambda imgs : add_impulse_noise(imgs, noise_ratio=0.05), title='Impulse Noise')"
   ]
  },
  {
   "cell_type": "markdown",
   "metadata": {},
   "source": [
    "## Extract images "
   ]
  },
  {
   "cell_type": "markdown",
   "metadata": {},
   "source": [
    "### Images in numpy array"
   ]
  },
  {
   "cell_type": "code",
   "execution_count": 11,
   "metadata": {},
   "outputs": [],
   "source": [
    "# Original images\n",
    "digits = load_digits()\n",
    "X = digits.images"
   ]
  },
  {
   "cell_type": "code",
   "execution_count": 12,
   "metadata": {},
   "outputs": [],
   "source": [
    "# Noisy images\n",
    "X_noisy = add_noise(X, noise_level=1.0)"
   ]
  },
  {
   "cell_type": "code",
   "execution_count": 13,
   "metadata": {},
   "outputs": [],
   "source": [
    "# Blurred images\n",
    "X_blur = add_blur(X, sigma=1.0)"
   ]
  },
  {
   "cell_type": "code",
   "execution_count": 14,
   "metadata": {},
   "outputs": [],
   "source": [
    "# Rotated images\n",
    "X_rotated = rotate_images(X, angle=15)"
   ]
  },
  {
   "cell_type": "code",
   "execution_count": 15,
   "metadata": {},
   "outputs": [],
   "source": [
    "# Bright images\n",
    "X_bright = adjust_brightness(X, factor=1.5)"
   ]
  },
  {
   "cell_type": "code",
   "execution_count": 16,
   "metadata": {},
   "outputs": [],
   "source": [
    "# Impulse noise images\n",
    "X_impulse = add_impulse_noise(X, noise_ratio=0.05)"
   ]
  },
  {
   "cell_type": "markdown",
   "metadata": {},
   "source": [
    "### Images in csv files"
   ]
  },
  {
   "cell_type": "code",
   "execution_count": 17,
   "metadata": {},
   "outputs": [],
   "source": [
    "def images_to_csv(images, filename):\n",
    "    \"\"\"\n",
    "    Save images to a CSV file.\n",
    "\n",
    "    Args:\n",
    "        images (np.ndarray): Array of shape (n_images, 8, 8).\n",
    "        filename (str): Name of the output CSV file.\n",
    "    \"\"\"\n",
    "    n_images = images.shape[0]\n",
    "    flat_images = images.reshape(n_images, -1)\n",
    "    df = pd.DataFrame(flat_images)\n",
    "    df['label'] = digits.target\n",
    "    df.to_csv(filename, index=False)"
   ]
  },
  {
   "cell_type": "markdown",
   "metadata": {},
   "source": [
    "### Images from dataframe"
   ]
  },
  {
   "cell_type": "code",
   "execution_count": 18,
   "metadata": {},
   "outputs": [],
   "source": [
    "def visualize_image_from_df(df, index):\n",
    "    \"\"\"\n",
    "    Visualizes an image from a DataFrame.\n",
    "\n",
    "    Args:\n",
    "        df (pd.DataFrame): DataFrame containing images.\n",
    "        index (int): Index of the image to visualize.\n",
    "    \"\"\"\n",
    "    image = df.iloc[index, :-1].values.reshape(8, 8)\n",
    "    label = df.iloc[index, -1]\n",
    "    \n",
    "    plt.imshow(image, cmap='gray')\n",
    "    plt.title(f\"Label: {label}\")\n",
    "    plt.axis('off')\n",
    "    plt.show()"
   ]
  }
 ],
 "metadata": {
  "kernelspec": {
   "display_name": "base",
   "language": "python",
   "name": "python3"
  },
  "language_info": {
   "codemirror_mode": {
    "name": "ipython",
    "version": 3
   },
   "file_extension": ".py",
   "mimetype": "text/x-python",
   "name": "python",
   "nbconvert_exporter": "python",
   "pygments_lexer": "ipython3",
   "version": "3.9.12"
  }
 },
 "nbformat": 4,
 "nbformat_minor": 2
}
